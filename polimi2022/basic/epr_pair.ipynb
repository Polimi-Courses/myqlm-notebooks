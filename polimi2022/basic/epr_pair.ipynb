{
 "cells": [
  {
   "cell_type": "markdown",
   "metadata": {
    "qat-category": "1-Circuit generation in Python",
    "qat-summary": "1-Creation of an EPR pair using two qubits"
   },
   "source": [
    "# Creation of an EPR pair using two qubits\n",
    "\n",
    "\n",
    "    \n",
    "Let us write a circuit preparing a Bell state $(|00\\rangle + |11\\rangle)/\\sqrt{2}$, also know as EPR pair.\n",
    "    \n",
    "    \n",
    "First, we need to import relevant objects from the python AQASM module:"
   ]
  },
  {
   "cell_type": "code",
   "execution_count": 35,
   "metadata": {},
   "outputs": [],
   "source": [
    "from qat.lang.AQASM import Program, H, CNOT "
   ]
  },
  {
   "cell_type": "markdown",
   "metadata": {},
   "source": [
    "## Creation of the quantum program\n",
    "\n",
    "Then, we can declare a new object ``Program``. Let us give it an explicit name:"
   ]
  },
  {
   "cell_type": "code",
   "execution_count": 36,
   "metadata": {},
   "outputs": [],
   "source": [
    "epr_prog = Program() "
   ]
  },
  {
   "cell_type": "markdown",
   "metadata": {},
   "source": [
    "To create our EPR pair, we need to manipulate two qbits. \n",
    "Qbits are manipulated through qbit registers only (to keep things structured).\n",
    "Registers are allocated as follows:"
   ]
  },
  {
   "cell_type": "code",
   "execution_count": 37,
   "metadata": {},
   "outputs": [],
   "source": [
    "qbits = epr_prog.qalloc(2) "
   ]
  },
  {
   "cell_type": "markdown",
   "metadata": {},
   "source": [
    "Now, we can access our qbits using the register \"qbits\".\n",
    "\n",
    "Registers behave like python list/arrays.\n",
    "\n",
    "Here our qbits will be refered to using qbits[0] and qbits[1].\n",
    "\n",
    "To create our EPR pair, we simply implement the appropriate 2-qbit rotation using a Hadamard gate (H) on the first qbit, followed by a controlled NOT gate (CNOT) on both qbits:"
   ]
  },
  {
   "cell_type": "code",
   "execution_count": 38,
   "metadata": {},
   "outputs": [],
   "source": [
    "epr_prog.apply(H, qbits[0]) \n",
    "epr_prog.apply(CNOT, qbits)"
   ]
  },
  {
   "cell_type": "markdown",
   "metadata": {},
   "source": [
    "Notice that since the CNOT is applied on both qbits (it is a 2-qbit gate), we can pass the whole register as argument to the ``.apply`` method. In other words, last line of previous cell is equivalent to ``epr_prog.apply(CNOT, qbits[0], qbits[1])``"
   ]
  },
  {
   "cell_type": "markdown",
   "metadata": {},
   "source": [
    "The corresponding circuit object can be extracted directly from the Program object as follows:"
   ]
  },
  {
   "cell_type": "code",
   "execution_count": 39,
   "metadata": {},
   "outputs": [
    {
     "data": {
      "image/png": "[encoded data removed]",
      "text/plain": [
       "<IPython.core.display.Image object>"
      ]
     },
     "execution_count": 39,
     "metadata": {},
     "output_type": "execute_result"
    }
   ],
   "source": [
    "circuit = epr_prog.to_circ()\n",
    "%qatdisplay circuit"
   ]
  },
  {
   "cell_type": "markdown",
   "metadata": {},
   "source": [
    "## Simulation of the execution of the circuit\n",
    "Now that we have a proper circuit, we can try and simulate it:"
   ]
  },
  {
   "cell_type": "code",
   "execution_count": 40,
   "metadata": {},
   "outputs": [
    {
     "name": "stdout",
     "output_type": "stream",
     "text": [
      "State |00>, with amplitude (0.7071067811865475+0j) and probability 0.4999999999999999\n",
      "State |11>, with amplitude (0.7071067811865475+0j) and probability 0.4999999999999999\n"
     ]
    }
   ],
   "source": [
    "#Let us import some qpu connected to a classical linear algebra simulator\n",
    "from qat.qpus import PyLinalg\n",
    "qpu = PyLinalg()\n",
    "\n",
    "job = circuit.to_job()\n",
    "\n",
    "result = qpu.submit(job)\n",
    "for sample in result:\n",
    "    print(f\"State {sample.state}, with amplitude {sample.amplitude} and probability {sample.probability}\")"
   ]
  },
  {
   "cell_type": "markdown",
   "metadata": {},
   "source": [
    "## Alternative simulation"
   ]
  },
  {
   "cell_type": "markdown",
   "metadata": {},
   "source": [
    "As an alternative, we can also sample the final state of the system to mimic the measure of the final state of a quantum processor. Here, we expect to see basis state $|00\\rangle$ half of the time, and state $|11\\rangle$ half of the time (on average)."
   ]
  },
  {
   "cell_type": "code",
   "execution_count": 22,
   "metadata": {},
   "outputs": [
    {
     "name": "stdout",
     "output_type": "stream",
     "text": [
      "We observed the state |00>\n",
      "We observed the state |00>\n",
      "We observed the state |00>\n",
      "We observed the state |11>\n",
      "We observed the state |00>\n",
      "We observed the state |11>\n",
      "We observed the state |11>\n",
      "We observed the state |00>\n",
      "We observed the state |11>\n",
      "We observed the state |11>\n"
     ]
    }
   ],
   "source": [
    "# Create a job where we specify the number of shots\n",
    "job = circuit.to_job(nbshots=10, aggregate_data=False)\n",
    "\n",
    "# Submit to the QPU\n",
    "result = qpu.submit(job)\n",
    "\n",
    "# And use it to draw 10 samples\n",
    "for sample in result:\n",
    "    print(f\"We observed the state {sample.state}\")"
   ]
  },
  {
   "cell_type": "markdown",
   "metadata": {},
   "source": [
    "If we set the `aggregate_data` parameter to `True` (default option) we will have an aggregate view of the sampled states, that will also show the probabilities associated to each one."
   ]
  },
  {
   "cell_type": "code",
   "execution_count": 41,
   "metadata": {},
   "outputs": [
    {
     "name": "stdout",
     "output_type": "stream",
     "text": [
      "We measured the state |11> (its probability is 0.6 and its amplitude None)\n",
      "We measured the state |00> (its probability is 0.4 and its amplitude None)\n"
     ]
    }
   ],
   "source": [
    "# Create a job where we specify the number of shots\n",
    "job = circuit.to_job(nbshots=10, aggregate_data=True)\n",
    "\n",
    "# Submit to the QPU\n",
    "result = qpu.submit(job)\n",
    "\n",
    "# And use it to draw 10 samples\n",
    "\n",
    "for sample in result:\n",
    "    print(f\"We measured the state {sample.state} (its probability is {sample.probability} and its amplitude {sample.amplitude})\")"
   ]
  },
  {
   "cell_type": "markdown",
   "metadata": {},
   "source": [
    "Of course, increasing the number of shots will produce a probability distribution closer to the one we would expect."
   ]
  },
  {
   "cell_type": "code",
   "execution_count": 42,
   "metadata": {},
   "outputs": [
    {
     "name": "stdout",
     "output_type": "stream",
     "text": [
      "We measured the state |00> (its probability is 0.4964 and its amplitude None)\n",
      "We measured the state |11> (its probability is 0.5036 and its amplitude None)\n"
     ]
    }
   ],
   "source": [
    "# Create a job where we specify the number of shots\n",
    "job = circuit.to_job(nbshots=10000, aggregate_data=True)\n",
    "\n",
    "# Submit to the QPU\n",
    "result = qpu.submit(job)\n",
    "\n",
    "# And use it to draw 10 samples\n",
    "\n",
    "for sample in result:\n",
    "    print(f\"We measured the state {sample.state} (its probability is {sample.probability} and its amplitude {sample.amplitude})\")"
   ]
  },
  {
   "cell_type": "markdown",
   "metadata": {},
   "source": [
    "## Export to Atos Quantum Assembly Language (AQASM) format\n",
    "We can also export our circuit in the AQASM format:"
   ]
  },
  {
   "cell_type": "code",
   "execution_count": 28,
   "metadata": {},
   "outputs": [],
   "source": [
    "epr_prog.export(\"helloworld.aqasm\") "
   ]
  },
  {
   "cell_type": "markdown",
   "metadata": {},
   "source": [
    "The generated file *helloworld.aqasm* should look like this:"
   ]
  },
  {
   "cell_type": "code",
   "execution_count": 16,
   "metadata": {},
   "outputs": [
    {
     "name": "stdout",
     "output_type": "stream",
     "text": [
      "BEGIN\r\n",
      "qubits 2\r\n",
      "cbits 2\r\n",
      "\r\n",
      "H  q[0]\r\n",
      "CNOT  q[0],q[1]\r\n",
      "END\r\n"
     ]
    }
   ],
   "source": [
    "!cat helloworld.aqasm"
   ]
  },
  {
   "cell_type": "markdown",
   "metadata": {},
   "source": [
    "and can be compiled to circ format as follows:"
   ]
  },
  {
   "cell_type": "code",
   "execution_count": 43,
   "metadata": {},
   "outputs": [],
   "source": [
    "!aqasm2circ helloworld.aqasm"
   ]
  },
  {
   "cell_type": "code",
   "execution_count": 44,
   "metadata": {},
   "outputs": [
    {
     "name": "stdout",
     "output_type": "stream",
     "text": [
      "-rw-r--r-- 1 simone simone 7254 Mar 24 11:26 helloworld.aqasm.circ\r\n"
     ]
    }
   ],
   "source": [
    "!ls -l helloworld.aqasm.circ"
   ]
  },
  {
   "cell_type": "code",
   "execution_count": null,
   "metadata": {},
   "outputs": [],
   "source": []
  }
 ],
 "metadata": {
  "authors": [
   "Simon Martiel"
  ],
  "kernelspec": {
   "display_name": "Python 3 (ipykernel)",
   "language": "python",
   "name": "python3"
  },
  "language_info": {
   "codemirror_mode": {
    "name": "ipython",
    "version": 3
   },
   "file_extension": ".py",
   "mimetype": "text/x-python",
   "name": "python",
   "nbconvert_exporter": "python",
   "pygments_lexer": "ipython3",
   "version": "3.9.10"
  }
 },
 "nbformat": 4,
 "nbformat_minor": 1
}
