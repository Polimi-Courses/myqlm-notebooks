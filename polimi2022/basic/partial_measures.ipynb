{
 "cells": [
  {
   "cell_type": "markdown",
   "metadata": {},
   "source": [
    "\n",
    "\n",
    "# Measuring subsets of qubits\n",
    "\n",
    "\n",
    "In this notebook, we explore the possibility to measure a subset of qubits of a given output state.\n",
    "\n",
    "## First example (Bell state)\n",
    "\n",
    "\n",
    "Let us consider the Bell state $$|\\psi\\rangle=\\frac{|00\\rangle+|11\\rangle}{\\sqrt{2}}$$\n",
    "\n",
    "Its vector of amplitudes is $(1/\\sqrt{2},0,0,1/\\sqrt{2})$.\n",
    "\n",
    "Let us measure its first qubit. Then we should obtain \n",
    "\n",
    "- the value 0 with probability p=1/2, in which case the system is in state $|00\\rangle$\n",
    "\n",
    "- the value 1 with probability p=1/2, in which case the system is in state $|11\\rangle$\n",
    "\n",
    "The same holds for the second qubit since the state is invariant under a swap of its qubits.\n",
    "\n",
    "In the cell below, we create a circuit whose output is this Bell state, and output the nonzero amplitudes: "
   ]
  },
  {
   "cell_type": "code",
   "execution_count": 1,
   "metadata": {},
   "outputs": [
    {
     "data": {
      "image/png": "[encoded data removed]",
      "text/plain": [
       "<IPython.core.display.Image object>"
      ]
     },
     "execution_count": 1,
     "metadata": {},
     "output_type": "execute_result"
    }
   ],
   "source": [
    "from qat.lang.AQASM import Program, H, CNOT, X\n",
    "qprog = Program()\n",
    "nbqbits = 2\n",
    "qbits = qprog.qalloc(nbqbits)\n",
    "qprog.apply(H, qbits[0]) \n",
    "qprog.apply(CNOT, qbits[0], qbits[1])\n",
    "\n",
    "circuit = qprog.to_circ()\n",
    "%qatdisplay circuit"
   ]
  },
  {
   "cell_type": "code",
   "execution_count": 2,
   "metadata": {},
   "outputs": [
    {
     "name": "stdout",
     "output_type": "stream",
     "text": [
      "State |00>, amplitude (0.7071067811865475+0j), probability 0.4999999999999999\n",
      "State |11>, amplitude (0.7071067811865475+0j), probability 0.4999999999999999\n"
     ]
    }
   ],
   "source": [
    "from qat.qpus import PyLinalg\n",
    "job1 = circuit.to_job()\n",
    "result = PyLinalg().submit(job1)\n",
    "for sample in result:\n",
    "    print(f\"State {sample.state}, amplitude {sample.amplitude}, probability {sample.probability}\")\n"
   ]
  },
  {
   "cell_type": "markdown",
   "metadata": {},
   "source": [
    "We now call the ``to_job`` method of the task with two arguments: \n",
    "\n",
    "- the first (``qubits``) specifies the indices of the qubits we want to measure, \n",
    "- the second (``nbshots``) the number of repetitions of the measurement."
   ]
  },
  {
   "cell_type": "code",
   "execution_count": 3,
   "metadata": {},
   "outputs": [
    {
     "name": "stdout",
     "output_type": "stream",
     "text": [
      "Qubit 0 has value 0 (the probability of getting this result is 0.48 +/- 0.07137140569598169)\n",
      "Qubit 0 has value 1 (the probability of getting this result is 0.52 +/- 0.07137140569598169)\n",
      "\n",
      "Qubit 1 has value 1 (the probability of getting this result is 0.58 +/- 0.07050835816716038)\n",
      "Qubit 1 has value 0 (the probability of getting this result is 0.42 +/- 0.07050835816716038)\n"
     ]
    }
   ],
   "source": [
    "# measuring qubit #0 50 times\n",
    "job2 = circuit.to_job(qubits=[0], nbshots=50)\n",
    "result = PyLinalg().submit(job2)\n",
    "# Note how amplitudes are none here. Why?\n",
    "for res in result:\n",
    "    print(f\"Qubit 0 has value {int(res.state[0])} (the probability of getting this result is {res.probability} +/- {res.err})\")\n",
    "print()\n",
    "\n",
    "# measuring qubit #1 50 times\n",
    "job3 = circuit.to_job(qubits=[1], nbshots=50)\n",
    "result = PyLinalg().submit(job3)\n",
    "for res in result:\n",
    "    print(f\"Qubit 1 has value {int(res.state[0])} (the probability of getting this result is {res.probability} +/- {res.err})\")\n",
    "\n"
   ]
  },
  {
   "cell_type": "markdown",
   "metadata": {},
   "source": [
    "## Example 2: measuring several qubits\n",
    "\n",
    "\n",
    "In this last section, we are interested in a quantum state of the form $$|\\psi\\rangle=\\frac{|000\\rangle}{\\sqrt{2}}+\\frac{|100\\rangle+|111\\rangle}{2}$$\n",
    "\n",
    "Its amplitudes are $(1/\\sqrt{2},0,0,0, 1/2, 0, 0, 1/2)$.\n",
    "\n",
    "Let us measure its first and second qubit. Then we should obtain \n",
    "\n",
    "- the value 0,0 with probability $p=0.5$\n",
    "- the value 0,1 with probability $p=0$\n",
    "- the value 1,0 with probability $p=0.25$\n",
    "- the value 1,1 with probability $p=0.25$\n",
    "\n",
    "Let us measure its second and third qubit. Then we should obtain \n",
    "\n",
    "- the value 0,0 with probability $p=0.75$\n",
    "- the value 0,1 with probability $p=0$\n",
    "- the value 1,0 with probability $p=0$\n",
    "- the value 1,1 with probability $p=0.25$\n",
    "\n",
    "Let us first build the circuit that prepares this state, and check the amplitudes are correct:"
   ]
  },
  {
   "cell_type": "code",
   "execution_count": 18,
   "metadata": {},
   "outputs": [
    {
     "name": "stdout",
     "output_type": "stream",
     "text": [
      "State |000>, amplitude (0.7071067811865475+0j), probability 0.4999999999999999\n",
      "State |100>, amplitude (0.4999999999999999+0j), probability 0.2499999999999999\n",
      "State |111>, amplitude (0.4999999999999999+0j), probability 0.2499999999999999\n"
     ]
    },
    {
     "data": {
      "image/png": "[encoded data removed]",
      "text/plain": [
       "<IPython.core.display.Image object>"
      ]
     },
     "execution_count": 18,
     "metadata": {},
     "output_type": "execute_result"
    }
   ],
   "source": [
    "from qat.lang.AQASM import Program, H, CNOT\n",
    "\n",
    "qprog = Program()\n",
    "nbqbits = 3\n",
    "qbits = qprog.qalloc(nbqbits)\n",
    "\n",
    "qprog.apply(H, qbits[0])\n",
    "qprog.apply(H.ctrl(), qbits[0], qbits[1])\n",
    "qprog.apply(CNOT, qbits[1], qbits[2])\n",
    "circuit = qprog.to_circ(submatrices_only=False)\n",
    "\n",
    "result = PyLinalg().submit(circuit.to_job())\n",
    "\n",
    "for sample in result:\n",
    "    print(f\"State {sample.state}, amplitude {sample.amplitude}, probability {sample.probability}\")\n",
    "\n",
    "%qatdisplay circuit"
   ]
  },
  {
   "cell_type": "markdown",
   "metadata": {},
   "source": [
    "Let us now perform measurements on q0, q1 on the one hand, and q1, q2 on the other hand:"
   ]
  },
  {
   "cell_type": "code",
   "execution_count": 24,
   "metadata": {},
   "outputs": [
    {
     "name": "stdout",
     "output_type": "stream",
     "text": [
      "Qubits 0,1 have value 0,0 (the probability of getting this result is 0.505 +/- 0.03544228800309698)\n",
      "Qubits 0,1 have value 1,1 (the probability of getting this result is 0.275 +/- 0.03165255790786193)\n",
      "Qubits 0,1 have value 1,0 (the probability of getting this result is 0.22 +/- 0.029365141882663273)\n",
      "\n",
      "Qubits 0,1 have value 0,0 (the probability of getting this result is 0.77 +/- 0.029832025555495197)\n",
      "Qubits 0,1 have value 1,1 (the probability of getting this result is 0.23 +/- 0.0298320255554952)\n"
     ]
    }
   ],
   "source": [
    "# measuring qubit #0 and #1 200 times\n",
    "result = PyLinalg().submit(circuit.to_job(qubits=[0, 1], nbshots=200))\n",
    "for res in result:\n",
    "    print(f\"Qubits 0,1 have value {int(res.state[0])},{int(res.state[1])} (the probability of getting this result is {res.probability} +/- {res.err})\")\n",
    "print()\n",
    "\n",
    "# measuring qubit #1 and #2 200 times\n",
    "result = PyLinalg().submit(circuit.to_job(qubits=[1, 2], nbshots=200))\n",
    "for res in result:\n",
    "    print(f\"Qubits 0,1 have value {int(res.state[0])},{int(res.state[1])} (the probability of getting this result is {res.probability} +/- {res.err})\")\n"
   ]
  }
 ],
 "metadata": {
  "authors": [
   "Simon Martiel"
  ],
  "kernelspec": {
   "display_name": "Python 3 (ipykernel)",
   "language": "python",
   "name": "python3"
  },
  "language_info": {
   "codemirror_mode": {
    "name": "ipython",
    "version": 3
   },
   "file_extension": ".py",
   "mimetype": "text/x-python",
   "name": "python",
   "nbconvert_exporter": "python",
   "pygments_lexer": "ipython3",
   "version": "3.9.10"
  }
 },
 "nbformat": 4,
 "nbformat_minor": 2
}
