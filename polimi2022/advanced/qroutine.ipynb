{
 "cells": [
  {
   "cell_type": "markdown",
   "metadata": {},
   "source": [
    "# Quantum Routines\n",
    "\n",
    "\n",
    "The ``QRoutine`` object allows for the convenient creation of sub programs (akin to a re-useable sequence of gates) within a quantum program:"
   ]
  },
  {
   "cell_type": "code",
   "execution_count": 1,
   "metadata": {},
   "outputs": [
    {
     "data": {
      "image/png": "[encoded data removed]",
      "text/plain": [
       "<IPython.core.display.Image object>"
      ]
     },
     "execution_count": 1,
     "metadata": {},
     "output_type": "execute_result"
    }
   ],
   "source": [
    "from qat.lang.AQASM import Program, QRoutine, X, H\n",
    "\n",
    "# Creates a quantum routine consisting of a H gate on the first qubit, and a X gate on the second qubit\n",
    "subprog = QRoutine()\n",
    "subprog.apply(H, 0)\n",
    "subprog.apply(X, 1)\n",
    "\n",
    "# Now, create a program and apply the quantum routine to the qubit register\n",
    "prog = Program()\n",
    "qbits = prog.qalloc(3)\n",
    "prog.apply(subprog, qbits[1:3])\n",
    "\n",
    "circ = prog.to_circ()\n",
    "%qatdisplay circ"
   ]
  },
  {
   "cell_type": "markdown",
   "metadata": {},
   "source": [
    "``QRoutine``'s behave similarly to quantum gates. As a consequence, one can compose them:"
   ]
  },
  {
   "cell_type": "code",
   "execution_count": 2,
   "metadata": {},
   "outputs": [
    {
     "data": {
      "image/png": "[encoded data removed]",
      "text/plain": [
       "<IPython.core.display.Image object>"
      ]
     },
     "execution_count": 2,
     "metadata": {},
     "output_type": "execute_result"
    }
   ],
   "source": [
    "subprog2 = QRoutine()\n",
    "subprog2.apply(X, 0)\n",
    "subprog2.apply(subprog, 0, 1)\n",
    "\n",
    "prog2 = Program()\n",
    "qbits = prog2.qalloc(3)\n",
    "prog2.apply(subprog2, qbits[0:2])\n",
    "\n",
    "circ2 = prog2.to_circ()\n",
    "%qatdisplay circ2"
   ]
  },
  {
   "cell_type": "markdown",
   "metadata": {},
   "source": [
    "One can also apply the gate operators (ctrl, conj, dag etc.) to quantum routines, e.g:"
   ]
  },
  {
   "cell_type": "code",
   "execution_count": 3,
   "metadata": {},
   "outputs": [],
   "source": [
    "conjsub = subprog.conj()\n",
    "prog.apply(conjsub, qbits[0:2])"
   ]
  },
  {
   "cell_type": "markdown",
   "metadata": {},
   "source": [
    "## More complex scenario"
   ]
  },
  {
   "cell_type": "markdown",
   "metadata": {},
   "source": [
    "We can use build gate function"
   ]
  },
  {
   "cell_type": "code",
   "execution_count": 16,
   "metadata": {},
   "outputs": [],
   "source": [
    "from qat.lang.AQASM import *\n",
    "\n",
    "@build_gate(\"MyWalshHadamard\", [int])\n",
    "def constant_zero_oracle(nqubits):\n",
    "    qrout = QRoutine()\n",
    "    qreg = qrout.new_wires(nqubits)\n",
    "    for qb in qreg:\n",
    "        qrout.apply(H, qb)\n",
    "    return qrout"
   ]
  },
  {
   "cell_type": "markdown",
   "metadata": {},
   "source": [
    "Note that we cannot display the QRoutine as it is now"
   ]
  },
  {
   "cell_type": "code",
   "execution_count": 17,
   "metadata": {},
   "outputs": [
    {
     "name": "stdout",
     "output_type": "stream",
     "text": [
      "Exception, no arity is defined\n"
     ]
    }
   ],
   "source": [
    "wh3 = constant_zero_oracle(3)\n",
    "try:\n",
    "    %qatdisplay wh3\n",
    "except:\n",
    "    print(\"Exception, no arity is defined\")"
   ]
  },
  {
   "cell_type": "markdown",
   "metadata": {},
   "source": [
    "We can overcome this using an arity generator"
   ]
  },
  {
   "cell_type": "code",
   "execution_count": 18,
   "metadata": {},
   "outputs": [],
   "source": [
    "@build_gate(\"MyWalshHadamard\", [int], arity=lambda n:n)\n",
    "def constant_zero_oracle(nqubits):\n",
    "    qrout = QRoutine()\n",
    "    qreg = qrout.new_wires(nqubits)\n",
    "    for qb in qreg:\n",
    "        qrout.apply(H, qb)\n",
    "    return qrout"
   ]
  },
  {
   "cell_type": "code",
   "execution_count": 19,
   "metadata": {},
   "outputs": [
    {
     "data": {
      "image/png": "[encoded data removed]",
      "text/plain": [
       "<IPython.core.display.Image object>"
      ]
     },
     "execution_count": 19,
     "metadata": {},
     "output_type": "execute_result"
    }
   ],
   "source": [
    "wh4 = constant_zero_oracle(4)\n",
    "%qatdisplay wh4"
   ]
  },
  {
   "cell_type": "code",
   "execution_count": 20,
   "metadata": {},
   "outputs": [
    {
     "data": {
      "image/png": "[encoded data removed]",
      "text/plain": [
       "<IPython.core.display.Image object>"
      ]
     },
     "execution_count": 20,
     "metadata": {},
     "output_type": "execute_result"
    }
   ],
   "source": [
    "pr = Program()\n",
    "qr = pr.qalloc(4)\n",
    "\n",
    "pr.apply(wh4, qr)\n",
    "\n",
    "cr = pr.to_circ()\n",
    "%qatdisplay cr"
   ]
  },
  {
   "cell_type": "markdown",
   "metadata": {},
   "source": [
    "## Replace gate set"
   ]
  },
  {
   "cell_type": "markdown",
   "metadata": {},
   "source": [
    "[here](tutorials/lang/very_advanced_linker.ipynb) a more complex example."
   ]
  }
 ],
 "metadata": {
  "authors": [
   "Simon Martiel"
  ],
  "kernelspec": {
   "display_name": "Python 3 (ipykernel)",
   "language": "python",
   "name": "python3"
  },
  "language_info": {
   "codemirror_mode": {
    "name": "ipython",
    "version": 3
   },
   "file_extension": ".py",
   "mimetype": "text/x-python",
   "name": "python",
   "nbconvert_exporter": "python",
   "pygments_lexer": "ipython3",
   "version": "3.9.10"
  }
 },
 "nbformat": 4,
 "nbformat_minor": 1
}
