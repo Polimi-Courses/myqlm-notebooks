{
 "cells": [
  {
   "cell_type": "markdown",
   "metadata": {},
   "source": [
    "# Quantum Routines\n",
    "\n",
    "\n",
    "The ``QRoutine`` object allows for the convenient creation of sub programs (akin to a re-useable sequence of gates) within a quantum program:"
   ]
  },
  {
   "cell_type": "code",
   "execution_count": 1,
   "metadata": {},
   "outputs": [
    {
     "data": {
      "image/png": "[encoded data removed]",
      "text/plain": [
       "<IPython.core.display.Image object>"
      ]
     },
     "execution_count": 1,
     "metadata": {},
     "output_type": "execute_result"
    }
   ],
   "source": [
    "from qat.lang.AQASM import Program, QRoutine, X, H\n",
    "\n",
    "# Creates a quantum routine consisting of a H gate on the first qubit, and a X gate on the second qubit\n",
    "subprog = QRoutine()\n",
    "subprog.apply(H, 0)\n",
    "subprog.apply(X, 1)\n",
    "\n",
    "# Now, create a program and apply the quantum routine to the qubit register\n",
    "prog = Program()\n",
    "qbits = prog.qalloc(3)\n",
    "prog.apply(subprog, qbits[1:3])\n",
    "\n",
    "circ = prog.to_circ()\n",
    "%qatdisplay circ"
   ]
  },
  {
   "cell_type": "markdown",
   "metadata": {},
   "source": [
    "``QRoutine``'s behave similarly to quantum gates. As a consequence, one can compose them:"
   ]
  },
  {
   "cell_type": "code",
   "execution_count": 21,
   "metadata": {},
   "outputs": [
    {
     "data": {
      "image/png": "[encoded data removed]",
      "text/plain": [
       "<IPython.core.display.Image object>"
      ]
     },
     "execution_count": 21,
     "metadata": {},
     "output_type": "execute_result"
    }
   ],
   "source": [
    "subprog2 = QRoutine()\n",
    "subprog2.apply(X, 0)\n",
    "subprog2.apply(subprog, 0, 1)\n",
    "\n",
    "prog2 = Program()\n",
    "qbits = prog2.qalloc(3)\n",
    "prog2.apply(subprog2, qbits[0:2])\n",
    "\n",
    "circ2 = prog2.to_circ()\n",
    "%qatdisplay circ2"
   ]
  },
  {
   "cell_type": "markdown",
   "metadata": {},
   "source": [
    "One can also apply the gate operators (ctrl, conj, dag etc.) to quantum routines, e.g:"
   ]
  },
  {
   "cell_type": "code",
   "execution_count": 22,
   "metadata": {},
   "outputs": [],
   "source": [
    "conjsub = subprog.conj()\n",
    "prog.apply(conjsub, qbits[0:2])"
   ]
  },
  {
   "cell_type": "markdown",
   "metadata": {},
   "source": [
    "## More complex scenario"
   ]
  },
  {
   "cell_type": "markdown",
   "metadata": {},
   "source": [
    "`QRoutine` allow us to create more complex gates. The `build_gate` decorator allows you to turn any Python function returning a `QRoutine` into an `AbstractGate`."
   ]
  },
  {
   "cell_type": "markdown",
   "metadata": {},
   "source": [
    "As an example, let's implement a generic Walsh-Hadamard gate acting on a variable number of qubits."
   ]
  },
  {
   "cell_type": "code",
   "execution_count": 46,
   "metadata": {},
   "outputs": [],
   "source": [
    "from qat.lang.AQASM import *\n",
    "\n",
    "@build_gate(\"MyWalshHadamard\", [int])\n",
    "def constant_zero_oracle(nqubits):\n",
    "    qrout = QRoutine()\n",
    "    qreg = qrout.new_wires(nqubits)\n",
    "    for qb in qreg:\n",
    "        qrout.apply(H, qb)\n",
    "    return qrout"
   ]
  },
  {
   "cell_type": "markdown",
   "metadata": {},
   "source": [
    "Note that, with this definition, we cannot display the `QRoutine` as it is now. "
   ]
  },
  {
   "cell_type": "code",
   "execution_count": 47,
   "metadata": {},
   "outputs": [
    {
     "name": "stderr",
     "output_type": "stream",
     "text": [
      "Traceback (most recent call last):\n",
      "  File \"/tmp/ipykernel_157994/1103771466.py\", line 3, in <cell line: 2>\n",
      "    get_ipython().run_line_magic('qatdisplay', 'wh3')\n",
      "TypeError: 'NoneType' object cannot be interpreted as an integer\n"
     ]
    }
   ],
   "source": [
    "wh3 = constant_zero_oracle(3)\n",
    "try:\n",
    "    %qatdisplay wh3\n",
    "except:\n",
    "    import traceback\n",
    "    traceback.print_exc(limit=1)"
   ]
  },
  {
   "cell_type": "markdown",
   "metadata": {},
   "source": [
    "The main problem is that there is no static check on the arity of this routine, meaning something like this is totally fine."
   ]
  },
  {
   "cell_type": "code",
   "execution_count": 35,
   "metadata": {},
   "outputs": [
    {
     "data": {
      "image/png": "[encoded data removed]",
      "text/plain": [
       "<IPython.core.display.Image object>"
      ]
     },
     "execution_count": 35,
     "metadata": {},
     "output_type": "execute_result"
    },
    {
     "data": {
      "image/png": "[encoded data removed]",
      "text/plain": [
       "<IPython.core.display.Image object>"
      ]
     },
     "execution_count": 35,
     "metadata": {},
     "output_type": "execute_result"
    }
   ],
   "source": [
    "pr = Program()\n",
    "qr = pr.qalloc(4)\n",
    "\n",
    "# we applied a gate defined for 3 qubits on a quantum register of 4 qubits\n",
    "pr.apply(wh3, qr)\n",
    "\n",
    "cr = pr.to_circ()\n",
    "%qatdisplay cr\n",
    "%qatdisplay cr --depth=1"
   ]
  },
  {
   "cell_type": "markdown",
   "metadata": {},
   "source": [
    "In order to display the `QRoutine` and, most importantly, have a static check on the its application, we can define a function generate its arity based on the number of qubits it has."
   ]
  },
  {
   "cell_type": "code",
   "execution_count": 36,
   "metadata": {},
   "outputs": [],
   "source": [
    "@build_gate(\"MyWalshHadamard\", [int], arity=lambda n:n)\n",
    "def constant_zero_oracle(nqubits):\n",
    "    qrout = QRoutine()\n",
    "    qreg = qrout.new_wires(nqubits)\n",
    "    for qb in qreg:\n",
    "        qrout.apply(H, qb)\n",
    "    return qrout"
   ]
  },
  {
   "cell_type": "code",
   "execution_count": 37,
   "metadata": {},
   "outputs": [
    {
     "data": {
      "image/png": "[encoded data removed]",
      "text/plain": [
       "<IPython.core.display.Image object>"
      ]
     },
     "execution_count": 37,
     "metadata": {},
     "output_type": "execute_result"
    }
   ],
   "source": [
    "wh4 = constant_zero_oracle(4)\n",
    "%qatdisplay wh4"
   ]
  },
  {
   "cell_type": "markdown",
   "metadata": {},
   "source": [
    "Note how, if we apply the gate to a quantum register with 5 qubits, the `apply` will raise an exception."
   ]
  },
  {
   "cell_type": "code",
   "execution_count": 43,
   "metadata": {},
   "outputs": [
    {
     "name": "stderr",
     "output_type": "stream",
     "text": [
      "Traceback (most recent call last):\n",
      "  File \"/tmp/ipykernel_157994/3276928.py\", line 6, in <cell line: 5>\n",
      "    pr.apply(wh4, qr)\n",
      "qat.lang.AQASM.aqasm_util.InvalidGateArguments: Gate MyWalshHadamard of arity 4 cannot be applied on [q[0],q[1],q[2],q[3],q[4]]\n"
     ]
    }
   ],
   "source": [
    "pr = Program()\n",
    "qr = pr.qalloc(5)\n",
    "\n",
    "try:\n",
    "    pr.apply(wh4, qr)\n",
    "except:\n",
    "    import traceback\n",
    "    traceback.print_exc(limit=1)"
   ]
  },
  {
   "cell_type": "markdown",
   "metadata": {},
   "source": [
    "But we can safely apply the gate to a quantum register of right size."
   ]
  },
  {
   "cell_type": "code",
   "execution_count": 44,
   "metadata": {},
   "outputs": [
    {
     "data": {
      "image/png": "[encoded data removed]",
      "text/plain": [
       "<IPython.core.display.Image object>"
      ]
     },
     "execution_count": 44,
     "metadata": {},
     "output_type": "execute_result"
    }
   ],
   "source": [
    "pr = Program()\n",
    "qr = pr.qalloc(4)\n",
    "\n",
    "pr.apply(wh4, qr)\n",
    "\n",
    "cr = pr.to_circ()\n",
    "%qatdisplay cr"
   ]
  },
  {
   "cell_type": "markdown",
   "metadata": {},
   "source": [
    "## Replace gate set"
   ]
  },
  {
   "cell_type": "markdown",
   "metadata": {},
   "source": [
    "[here](../../tutorials/lang/very_advanced_linker.ipynb) a more complex example on how to exploits `QRoutine` to convert a gate from one gate set to another."
   ]
  }
 ],
 "metadata": {
  "authors": [
   "Simon Martiel"
  ],
  "kernelspec": {
   "display_name": "Python 3 (ipykernel)",
   "language": "python",
   "name": "python3"
  },
  "language_info": {
   "codemirror_mode": {
    "name": "ipython",
    "version": 3
   },
   "file_extension": ".py",
   "mimetype": "text/x-python",
   "name": "python",
   "nbconvert_exporter": "python",
   "pygments_lexer": "ipython3",
   "version": "3.9.10"
  }
 },
 "nbformat": 4,
 "nbformat_minor": 1
}
