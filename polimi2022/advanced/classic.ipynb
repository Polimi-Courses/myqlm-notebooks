{
 "cells": [
  {
   "cell_type": "markdown",
   "metadata": {},
   "source": [
    "# Classical control, measures and resets"
   ]
  },
  {
   "cell_type": "markdown",
   "metadata": {},
   "source": [
    "## Quantum and classical bit allocation\n",
    "\n",
    "The allocation of quantum and classical bits is done via the ``qalloc`` and ``calloc`` methods, respectively. They return a register, which will then be used to refer to the qubits or classical bits.\n",
    "\n",
    "In the following snippet, we allocated an 8-qubit register as well a classical register with 8 bits:"
   ]
  },
  {
   "cell_type": "code",
   "execution_count": 2,
   "metadata": {},
   "outputs": [],
   "source": [
    "qbits = prog.qalloc(8)\n",
    "cbits = prog.calloc(8)"
   ]
  },
  {
   "cell_type": "markdown",
   "metadata": {},
   "source": [
    "## Measure\n",
    "A measure is applied via the ``measure`` method. The result of the measure of a quantum bit is stored in a classical bit:"
   ]
  },
  {
   "cell_type": "code",
   "execution_count": 4,
   "metadata": {},
   "outputs": [
    {
     "data": {
      "image/png": "[encoded data removed]",
      "text/plain": [
       "<IPython.core.display.Image object>"
      ]
     },
     "execution_count": 4,
     "metadata": {},
     "output_type": "execute_result"
    }
   ],
   "source": [
    "from qat.lang.AQASM import Program, RZ, CNOT\n",
    "from math import pi\n",
    "\n",
    "prog = Program()\n",
    "qbits = prog.qalloc(2)\n",
    "cbits = prog.calloc(2)\n",
    "prog.apply(RZ(pi/5), qbits[0])\n",
    "prog.apply(CNOT, qbits)\n",
    "prog.measure(qbits, cbits)\n",
    "\n",
    "circ = prog.to_circ()\n",
    "%qatdisplay circ"
   ]
  },
  {
   "cell_type": "markdown",
   "metadata": {},
   "source": [
    "## Classical control\n",
    "\n",
    "Here, we apply a Hadamard gate on second qubit classically controlled by second bit (it requires the classical bit to be initialized):\n",
    "![figure](../../img/CCH.png)"
   ]
  },
  {
   "cell_type": "code",
   "execution_count": 6,
   "metadata": {},
   "outputs": [],
   "source": [
    "from qat.lang.AQASM import Program, H\n",
    "\n",
    "prog = Program()\n",
    "cbits = prog.calloc(5)\n",
    "qbits = prog.qalloc(5)\n",
    "# Initializing cbits[2]\n",
    "prog.measure(qbits[4], cbits[2])\n",
    "# Apply Hadamard only if cbits[2] is set\n",
    "prog.cc_apply(cbits[2], H, qbits[2])"
   ]
  },
  {
   "cell_type": "markdown",
   "metadata": {},
   "source": [
    "## Qubit reset\n",
    "\n",
    "The following snippet shows how to reset a qubit."
   ]
  },
  {
   "cell_type": "code",
   "execution_count": 7,
   "metadata": {},
   "outputs": [
    {
     "name": "stdout",
     "output_type": "stream",
     "text": [
      "[<qat.lang.AQASM.bits.Qbit object at 0x7fa9e6fb6fa0>, <qat.lang.AQASM.bits.Qbit object at 0x7fa9e6fb6ac0>, <qat.lang.AQASM.bits.Qbit object at 0x7fa9e6fb6af0>]\n"
     ]
    }
   ],
   "source": [
    "from qat.lang.AQASM import Program \n",
    "\n",
    "prog = Program()\n",
    "qbits = prog.qalloc(8)\n",
    "\n",
    "\n",
    "# Reseting qubits 1, 3 and 4.\n",
    "prog.reset([qbits[1], qbits[3:5]])\n",
    "print(prog.op_list[0].qbits)"
   ]
  },
  {
   "cell_type": "markdown",
   "metadata": {},
   "source": [
    "## Cbit reset\n",
    "\n",
    "The reset method also allows to reset a classical bit."
   ]
  },
  {
   "cell_type": "code",
   "execution_count": 8,
   "metadata": {},
   "outputs": [
    {
     "name": "stdout",
     "output_type": "stream",
     "text": [
      "[<qat.lang.AQASM.bits.Qbit object at 0x7fa9e6fa46d0>, <qat.lang.AQASM.bits.Qbit object at 0x7fa9e6fa4790>, <qat.lang.AQASM.bits.Qbit object at 0x7fa9e6fa4250>]\n",
      "[<qat.lang.AQASM.bits.Cbit object at 0x7fa9e6fa46a0>]\n",
      "[]\n",
      "[<qat.lang.AQASM.bits.Cbit object at 0x7fa9e6f96f70>]\n"
     ]
    }
   ],
   "source": [
    "from qat.lang.AQASM import Program \n",
    "\n",
    "prog = Program()\n",
    "qbits = prog.qalloc(8)\n",
    "cbits = prog.calloc(8)\n",
    "\n",
    "# Reseting qubits 1, 3 and 4, and cbit 0.\n",
    "prog.reset([qbits[1], qbits[3:5]], [cbits[0]])\n",
    "# Reseting only cbit 1\n",
    "prog.reset([], [cbits[1]])\n",
    "print(prog.op_list[0].qbits)\n",
    "print(prog.op_list[0].cbits)\n",
    "print(prog.op_list[1].qbits)\n",
    "print(prog.op_list[1].cbits)"
   ]
  },
  {
   "cell_type": "markdown",
   "metadata": {},
   "source": [
    "## Logic operations on classical bits\n",
    "\n",
    "\n",
    "Here, we set the classical bit of index 0 through a logic operation on classical bits 1 and 2 (which have themselves been initialized through measurement).\n",
    "\n",
    "The second argument of the logic method is a boolean formula built using operators '&', '|', '^', '~' and cbits."
   ]
  },
  {
   "cell_type": "code",
   "execution_count": 9,
   "metadata": {},
   "outputs": [],
   "source": [
    "from qat.lang.AQASM import Program\n",
    "\n",
    "prog = Program()\n",
    "qbits = prog.qalloc(2)\n",
    "cbits = prog.calloc(8)\n",
    "prog.measure(qbits, cbits[1:3])\n",
    "prog.logic(cbits[0], cbits[1] & cbits[2])"
   ]
  },
  {
   "cell_type": "code",
   "execution_count": null,
   "metadata": {},
   "outputs": [],
   "source": []
  }
 ],
 "metadata": {
  "authors": [
   "Simon Martiel"
  ],
  "kernelspec": {
   "display_name": "Python 3 (ipykernel)",
   "language": "python",
   "name": "python3"
  },
  "language_info": {
   "codemirror_mode": {
    "name": "ipython",
    "version": 3
   },
   "file_extension": ".py",
   "mimetype": "text/x-python",
   "name": "python",
   "nbconvert_exporter": "python",
   "pygments_lexer": "ipython3",
   "version": "3.9.10"
  }
 },
 "nbformat": 4,
 "nbformat_minor": 1
}
