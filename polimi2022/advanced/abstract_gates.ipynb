{
 "cells": [
  {
   "cell_type": "markdown",
   "metadata": {},
   "source": [
    "# Abstract gates\n"
   ]
  },
  {
   "cell_type": "markdown",
   "metadata": {},
   "source": [
    "## Built-in standard gates\n",
    "Besides constant gates, such as Hadamard, or CNOT, pyAQASM offers the possibilty to manipulate and declare abstract gates. pyAQASM natively supports 4 abstract gates: `RX`, `RY`, `RZ`, `PH`). You can see a definition of these gates [here](tutorials/lang/available_gates.ipynb).\n",
    "\n",
    "In the following cell, you can see the difference between the abstract gate `RX` and its actual implementation. While an `AbstractGate` gate cannot be compiled to a `Circuit` object, a `ParamGate` can be compiled and simulated."
   ]
  },
  {
   "cell_type": "code",
   "execution_count": 5,
   "metadata": {},
   "outputs": [
    {
     "name": "stdout",
     "output_type": "stream",
     "text": [
      "<class 'qat.lang.AQASM.gates.AbstractGate'>\n",
      "<class 'qat.lang.AQASM.gates.ParamGate'>\n"
     ]
    }
   ],
   "source": [
    "from qat.lang.AQASM import Program, RX, Y, AbstractGate\n",
    "import numpy as np\n",
    "\n",
    "print(type(RX))\n",
    "print(type(RX(np.pi)))"
   ]
  },
  {
   "cell_type": "markdown",
   "metadata": {},
   "source": [
    "Even if it's not possible to compile it, we can still apply the `AbstractGate` to a `Program`. Remember: the `Program` object is the quantum circuit representation **BEFORE** compilation."
   ]
  },
  {
   "cell_type": "code",
   "execution_count": 40,
   "metadata": {},
   "outputs": [],
   "source": [
    "pr = Program()\n",
    "qr = pr.qalloc()\n",
    "pr.apply(RX, qr)"
   ]
  },
  {
   "cell_type": "markdown",
   "metadata": {},
   "source": [
    "As we said, compilation will fail."
   ]
  },
  {
   "cell_type": "code",
   "execution_count": 43,
   "metadata": {},
   "outputs": [
    {
     "name": "stdout",
     "output_type": "stream",
     "text": [
      "Circuit generation failed\n"
     ]
    }
   ],
   "source": [
    "try:\n",
    "    cr = pr.to_circ()\n",
    "except:\n",
    "    print(\"Circuit generation failed\")"
   ]
  },
  {
   "cell_type": "markdown",
   "metadata": {},
   "source": [
    "There are two ways to circumvent this problem. The first one is to trivially pass the `AbstractGate` all the parameters it requires in order to make it a proper `ParamGate`. The `Program` obtained can be both compiled and simulated."
   ]
  },
  {
   "cell_type": "code",
   "execution_count": 44,
   "metadata": {},
   "outputs": [
    {
     "data": {
      "image/png": "[encoded data removed]",
      "text/plain": [
       "<IPython.core.display.Image object>"
      ]
     },
     "execution_count": 44,
     "metadata": {},
     "output_type": "execute_result"
    }
   ],
   "source": [
    "pr2 = Program()\n",
    "qr2 = pr2.qalloc()\n",
    "pr2.apply(RX(2.3), qr2)\n",
    "\n",
    "cr2 = pr2.to_circ()\n",
    "%qatdisplay cr2"
   ]
  },
  {
   "cell_type": "markdown",
   "metadata": {},
   "source": [
    "Another interesting alternative exploits variables."
   ]
  },
  {
   "cell_type": "code",
   "execution_count": 45,
   "metadata": {},
   "outputs": [
    {
     "data": {
      "image/png": "[encoded data removed]",
      "text/plain": [
       "<IPython.core.display.Image object>"
      ]
     },
     "execution_count": 45,
     "metadata": {},
     "output_type": "execute_result"
    }
   ],
   "source": [
    "pr3 = Program()\n",
    "qr3 = pr3.qalloc()\n",
    "theta = pr3.new_var(float, \"\\\\theta\")\n",
    "pr3.apply(RX(theta),qr)\n",
    "\n",
    "cr3 = pr3.to_circ()\n",
    "%qatdisplay cr3"
   ]
  },
  {
   "cell_type": "markdown",
   "metadata": {},
   "source": [
    "Even if we are able to compile the `Program` object, we still cannot simulate it. To proceed to the simulation, we have to give the variable a proper value, a process known as binding."
   ]
  },
  {
   "cell_type": "code",
   "execution_count": 46,
   "metadata": {},
   "outputs": [
    {
     "data": {
      "image/png": "[encoded data removed]",
      "text/plain": [
       "<IPython.core.display.Image object>"
      ]
     },
     "execution_count": 46,
     "metadata": {},
     "output_type": "execute_result"
    }
   ],
   "source": [
    "new_circuit = cr3.bind_variables({\"\\\\theta\": theta_val})\n",
    "%qatdisplay new_circuit"
   ]
  },
  {
   "cell_type": "markdown",
   "metadata": {},
   "source": [
    "The variable creation and binding comes handy when we want to simulate the same circuit many times with different parameters."
   ]
  },
  {
   "cell_type": "code",
   "execution_count": 48,
   "metadata": {},
   "outputs": [
    {
     "name": "stdout",
     "output_type": "stream",
     "text": [
      "******************************\n",
      "Theta is 0.5\n"
     ]
    },
    {
     "data": {
      "image/png": "[encoded data removed]",
      "text/plain": [
       "<IPython.core.display.Image object>"
      ]
     },
     "execution_count": 48,
     "metadata": {},
     "output_type": "execute_result"
    },
    {
     "name": "stdout",
     "output_type": "stream",
     "text": [
      "State |0> with amplitude (0.9689124217106447+0j)\n",
      "State |1> with amplitude -0.24740395925452294j\n",
      "******************************\n",
      "Theta is 1.5\n"
     ]
    },
    {
     "data": {
      "image/png": "[encoded data removed]",
      "text/plain": [
       "<IPython.core.display.Image object>"
      ]
     },
     "execution_count": 48,
     "metadata": {},
     "output_type": "execute_result"
    },
    {
     "name": "stdout",
     "output_type": "stream",
     "text": [
      "State |0> with amplitude (0.7316888688738209+0j)\n",
      "State |1> with amplitude -0.6816387600233341j\n",
      "******************************\n",
      "Theta is 2.5\n"
     ]
    },
    {
     "data": {
      "image/png": "[encoded data removed]",
      "text/plain": [
       "<IPython.core.display.Image object>"
      ]
     },
     "execution_count": 48,
     "metadata": {},
     "output_type": "execute_result"
    },
    {
     "name": "stdout",
     "output_type": "stream",
     "text": [
      "State |0> with amplitude (0.3153223623952687+0j)\n",
      "State |1> with amplitude -0.9489846193555862j\n"
     ]
    }
   ],
   "source": [
    "from qat.qpus import PyLinalg\n",
    "qpu = PyLinalg()\n",
    "\n",
    "for theta_val in (.5, 1.5, 2.5):\n",
    "    print(\"*\" * 30)\n",
    "    print(f\"Theta is {theta_val}\")\n",
    "    new_circuit = cr3.bind_variables({\"\\\\theta\": theta_val})\n",
    "    %qatdisplay new_circuit\n",
    "    res = qpu.submit(new_circuit.to_job())\n",
    "    for sample in res:\n",
    "        print(f\"State {sample.state} with amplitude {sample.amplitude}\")"
   ]
  },
  {
   "cell_type": "markdown",
   "metadata": {},
   "source": [
    "## Create new abstract gates"
   ]
  },
  {
   "cell_type": "markdown",
   "metadata": {},
   "source": [
    "Apart from those already present in the language, new abstract gates can be defined. We will briefly see two ways to create an abstract gate."
   ]
  },
  {
   "cell_type": "code",
   "execution_count": 50,
   "metadata": {},
   "outputs": [],
   "source": [
    "prog = Program()\n",
    "qreg = prog.qalloc(3)"
   ]
  },
  {
   "cell_type": "markdown",
   "metadata": {},
   "source": [
    "Abstract gates do not require a particular matrix description: they are boxes with a name and a\n",
    "signature (the list of parameters it accepts as input)."
   ]
  },
  {
   "cell_type": "code",
   "execution_count": 55,
   "metadata": {},
   "outputs": [
    {
     "name": "stdout",
     "output_type": "stream",
     "text": [
      "<class 'qat.lang.AQASM.gates.AbstractGate'>\n"
     ]
    }
   ],
   "source": [
    "my_gate = AbstractGate(\"mygate\", # The name of the gate\n",
    "                       [float],  # Its signature: (here a single float)\n",
    "                       arity=2)  # Its arity \n",
    "prog.apply(my_gate(0.3), qreg[0], qreg[1])\n",
    "print(type(my_gate))"
   ]
  },
  {
   "cell_type": "markdown",
   "metadata": {},
   "source": [
    "Here we define a new abstract gate, a CNOT, through its matrix. The matrices lines and columns should be enumerated using the first qubit as most significant qubit. For instance, the matrix corresponding to a CNOT gate whose first argument is the control qubit will look like:\n",
    "$$\n",
    "\\begin{bmatrix}1&0&0&0\\\\0&1&0&0\\\\0&0&0&1\\\\0&0&1&0\\end{bmatrix}$$\n"
   ]
  },
  {
   "cell_type": "code",
   "execution_count": 57,
   "metadata": {},
   "outputs": [
    {
     "name": "stdout",
     "output_type": "stream",
     "text": [
      "<class 'qat.lang.AQASM.gates.AbstractGate'>\n"
     ]
    }
   ],
   "source": [
    "My_CNOT = AbstractGate(\"MY\\_CNOT\", \n",
    "                       [], # no input parameter, as expected \n",
    "                       arity=2,\n",
    "                       matrix_generator=lambda : np.array([[1,0,0,0],\n",
    "                                                           [0,1,0,0],\n",
    "                                                           [0,0,0,1],\n",
    "                                                           [0,0,1,0]])\n",
    "                      )\n",
    "print(type(My_CNOT)) # Why it is still an abstract gate?\n",
    "prog.apply(My_CNOT(), qreg[0], qreg[1])"
   ]
  },
  {
   "cell_type": "markdown",
   "metadata": {},
   "source": [
    "To answer the previous question, note the difference between these two lines."
   ]
  },
  {
   "cell_type": "code",
   "execution_count": 58,
   "metadata": {},
   "outputs": [
    {
     "name": "stdout",
     "output_type": "stream",
     "text": [
      "<class 'qat.lang.AQASM.gates.AbstractGate'>\n",
      "<class 'qat.lang.AQASM.gates.ParamGate'>\n"
     ]
    }
   ],
   "source": [
    "print(type(My_CNOT))\n",
    "print(type(My_CNOT()))"
   ]
  },
  {
   "cell_type": "markdown",
   "metadata": {},
   "source": [
    "We can treat abstract gates as any other standard gate.\n",
    "Recall, for example, that any gate can be modified using the following gate operators:\n",
    "- *dag()*: Creates  the dagger of the parent Gate\n",
    "- *ctrl()*: Creates a controlled version of the parent Gate\n",
    "- *conj()*: Creates the complex conjugate of the parent Gate\n",
    "- *trans()*: Creates the transpose of the parent Gate."
   ]
  },
  {
   "cell_type": "code",
   "execution_count": 59,
   "metadata": {},
   "outputs": [],
   "source": [
    "prog.apply(My_CNOT().dag().ctrl(), qreg)"
   ]
  },
  {
   "cell_type": "code",
   "execution_count": 60,
   "metadata": {},
   "outputs": [
    {
     "data": {
      "image/png": "[encoded data removed]",
      "text/plain": [
       "<IPython.core.display.Image object>"
      ]
     },
     "execution_count": 60,
     "metadata": {},
     "output_type": "execute_result"
    }
   ],
   "source": [
    "circ = prog.to_circ()\n",
    "%qatdisplay circ"
   ]
  },
  {
   "cell_type": "markdown",
   "metadata": {},
   "source": [
    "What if we want to associate a more complex function to an abstract gate? We will see later how to do it using `QRoutine`s."
   ]
  }
 ],
 "metadata": {
  "authors": [
   "Simon Martiel"
  ],
  "kernelspec": {
   "display_name": "Python 3 (ipykernel)",
   "language": "python",
   "name": "python3"
  },
  "language_info": {
   "codemirror_mode": {
    "name": "ipython",
    "version": 3
   },
   "file_extension": ".py",
   "mimetype": "text/x-python",
   "name": "python",
   "nbconvert_exporter": "python",
   "pygments_lexer": "ipython3",
   "version": "3.9.10"
  }
 },
 "nbformat": 4,
 "nbformat_minor": 1
}
