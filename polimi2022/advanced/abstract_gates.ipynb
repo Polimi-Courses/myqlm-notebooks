{
 "cells": [
  {
   "cell_type": "markdown",
   "metadata": {},
   "source": [
    "# Abstract gates\n"
   ]
  },
  {
   "cell_type": "markdown",
   "metadata": {},
   "source": [
    "## Built-in standard gates\n",
    "Besides constant gates, such as Hadamard, or CNOT, pyAQASM offers the possibilty to manipulate and declare abstract gates. pyAQASM natively supports 4 abstract gates: `RX`, `RY`, `RZ`, `PH`). You can see a definition of these gates [here](tutorials/lang/available_gates.ipynb).\n",
    "\n",
    "In the following cell, you can see the difference between the abstract gate `RX` and its actual implementation."
   ]
  },
  {
   "cell_type": "code",
   "execution_count": 5,
   "metadata": {},
   "outputs": [
    {
     "name": "stdout",
     "output_type": "stream",
     "text": [
      "<class 'qat.lang.AQASM.gates.AbstractGate'>\n",
      "<class 'qat.lang.AQASM.gates.ParamGate'>\n"
     ]
    }
   ],
   "source": [
    "from qat.lang.AQASM import Program, RX, Y, AbstractGate\n",
    "import numpy as np\n",
    "\n",
    "print(type(RX))\n",
    "print(type(RX(np.pi)))"
   ]
  },
  {
   "cell_type": "markdown",
   "metadata": {},
   "source": [
    "Even if it's not define, we can still apply the gate to a `Program`."
   ]
  },
  {
   "cell_type": "code",
   "execution_count": 8,
   "metadata": {},
   "outputs": [],
   "source": [
    "pr = Program()\n",
    "qr = pr.qalloc()\n",
    "pr.apply(RX, qr)"
   ]
  },
  {
   "cell_type": "markdown",
   "metadata": {},
   "source": [
    "However, circuit generation will fail since the gate has no signature."
   ]
  },
  {
   "cell_type": "code",
   "execution_count": 9,
   "metadata": {},
   "outputs": [
    {
     "name": "stdout",
     "output_type": "stream",
     "text": [
      "Circuit generation failed\n"
     ]
    }
   ],
   "source": [
    "try:\n",
    "    cr = pr.to_circ()\n",
    "except:\n",
    "    print(\"Circuit generation failed\")"
   ]
  },
  {
   "cell_type": "markdown",
   "metadata": {},
   "source": [
    "We should instead pass a proper initialization to the parameter."
   ]
  },
  {
   "cell_type": "markdown",
   "metadata": {},
   "source": [
    "pr2 = Program()\n",
    "qr2 = pr2.qalloc()\n",
    "pr2.apply(RX(2.3), qr2)\n",
    "\n",
    "cr2 = pr2.to_circ()\n",
    "%qatdisplay cr2"
   ]
  },
  {
   "cell_type": "markdown",
   "metadata": {},
   "source": [
    "As an alternative, you can create variables."
   ]
  },
  {
   "cell_type": "code",
   "execution_count": 17,
   "metadata": {},
   "outputs": [
    {
     "data": {
      "image/png": "[encoded data removed]",
      "text/plain": [
       "<IPython.core.display.Image object>"
      ]
     },
     "execution_count": 17,
     "metadata": {},
     "output_type": "execute_result"
    }
   ],
   "source": [
    "pr3 = Program()\n",
    "qr3 = pr3.qalloc()\n",
    "theta = pr3.new_var(float, \"\\\\theta\")\n",
    "pr3.apply(RX(theta),qr)\n",
    "\n",
    "cr3 = pr3.to_circ()\n",
    "%qatdisplay cr3"
   ]
  },
  {
   "cell_type": "raw",
   "metadata": {},
   "source": [
    "And then bind the variables later"
   ]
  },
  {
   "cell_type": "code",
   "execution_count": 20,
   "metadata": {},
   "outputs": [
    {
     "data": {
      "image/png": "[encoded data removed]",
      "text/plain": [
       "<IPython.core.display.Image object>"
      ]
     },
     "execution_count": 20,
     "metadata": {},
     "output_type": "execute_result"
    }
   ],
   "source": [
    "new_circuit = cr3.bind_variables({\"\\\\theta\": theta_val})\n",
    "%qatdisplay new_circuit"
   ]
  },
  {
   "cell_type": "markdown",
   "metadata": {},
   "source": [
    "Which comes handy when we want to simulate the same circuit many times with different parameters"
   ]
  },
  {
   "cell_type": "code",
   "execution_count": 21,
   "metadata": {},
   "outputs": [
    {
     "data": {
      "image/png": "[encoded data removed]",
      "text/plain": [
       "<IPython.core.display.Image object>"
      ]
     },
     "execution_count": 21,
     "metadata": {},
     "output_type": "execute_result"
    },
    {
     "name": "stdout",
     "output_type": "stream",
     "text": [
      "State |0> with amplitude (0.9689124217106447+0j)\n",
      "State |1> with amplitude -0.24740395925452294j\n"
     ]
    },
    {
     "data": {
      "image/png": "[encoded data removed]",
      "text/plain": [
       "<IPython.core.display.Image object>"
      ]
     },
     "execution_count": 21,
     "metadata": {},
     "output_type": "execute_result"
    },
    {
     "name": "stdout",
     "output_type": "stream",
     "text": [
      "State |0> with amplitude (0.7316888688738209+0j)\n",
      "State |1> with amplitude -0.6816387600233341j\n"
     ]
    },
    {
     "data": {
      "image/png": "[encoded data removed]",
      "text/plain": [
       "<IPython.core.display.Image object>"
      ]
     },
     "execution_count": 21,
     "metadata": {},
     "output_type": "execute_result"
    },
    {
     "name": "stdout",
     "output_type": "stream",
     "text": [
      "State |0> with amplitude (0.3153223623952687+0j)\n",
      "State |1> with amplitude -0.9489846193555862j\n"
     ]
    }
   ],
   "source": [
    "from qat.qpus import PyLinalg\n",
    "qpu = PyLinalg()\n",
    "\n",
    "for theta_val in (.5, 1.5, 2.5):\n",
    "    new_circuit = cr3.bind_variables({\"\\\\theta\": theta_val})\n",
    "    %qatdisplay new_circuit\n",
    "    res = qpu.submit(new_circuit.to_job())\n",
    "    for sample in res:\n",
    "        print(f\"State {sample.state} with amplitude {sample.amplitude}\")"
   ]
  },
  {
   "cell_type": "markdown",
   "metadata": {},
   "source": [
    "## New abstract gates"
   ]
  },
  {
   "cell_type": "markdown",
   "metadata": {},
   "source": [
    "Apart from those, new abstract gates can be defined.\n",
    "\n",
    "Recall also that any gate can be modified using the following gate operators:\n",
    "- *dag()*: Creates  the dagger of the parent Gate\n",
    "- *ctrl()*: Creates a controlled version of the parent Gate\n",
    "- *conj()*: Creates the complex conjugate of the parent Gate\n",
    "- *trans()*: Creates the transpose of the parent Gate."
   ]
  },
  {
   "cell_type": "markdown",
   "metadata": {},
   "source": [
    "We will briefly see two different abstract gates."
   ]
  },
  {
   "cell_type": "code",
   "execution_count": 34,
   "metadata": {},
   "outputs": [],
   "source": [
    "prog = Program()\n",
    "q = prog.qalloc(3)"
   ]
  },
  {
   "cell_type": "markdown",
   "metadata": {},
   "source": [
    "Abstract gates do not require a particular matrix description: they are boxes with a name and a\n",
    "signature."
   ]
  },
  {
   "cell_type": "code",
   "execution_count": 35,
   "metadata": {},
   "outputs": [],
   "source": [
    "my_gate = AbstractGate(\"mygate\", # The name of the gate\n",
    "                       [float], # Its signature: (here a single float)\n",
    "                       arity=2) # Its arity \n",
    "prog.apply(my_gate(0.3), q[0], q[1])"
   ]
  },
  {
   "cell_type": "markdown",
   "metadata": {},
   "source": [
    "A constant abstract gate (a CNOT)\n",
    "The matrices lines and columns should be enumerated using the first qubit as\n",
    "most significant (q)bit\n",
    "For instance, the matrix corresponding to a CNOT gate whose first argument is the control qubit will look like:\n",
    "$$\n",
    "\\begin{bmatrix}1&0&0&0\\\\0&1&0&0\\\\0&0&0&1\\\\0&0&1&0\\end{bmatrix}$$\n"
   ]
  },
  {
   "cell_type": "code",
   "execution_count": 36,
   "metadata": {},
   "outputs": [],
   "source": [
    "My_CNOT = AbstractGate(\"MY\\_CNOT\", [], arity=2,\n",
    "                       matrix_generator=lambda : np.array([[1,0,0,0],\n",
    "                                                           [0,1,0,0],\n",
    "                                                           [0,0,0,1],\n",
    "                                                           [0,0,1,0]]))\n",
    "\n",
    "prog.apply(My_CNOT(), q[0], q[1])"
   ]
  },
  {
   "cell_type": "markdown",
   "metadata": {},
   "source": [
    "Just a curiosity"
   ]
  },
  {
   "cell_type": "code",
   "execution_count": 37,
   "metadata": {},
   "outputs": [
    {
     "name": "stdout",
     "output_type": "stream",
     "text": [
      "<class 'qat.lang.AQASM.gates.AbstractGate'>\n",
      "<class 'qat.lang.AQASM.gates.ParamGate'>\n"
     ]
    }
   ],
   "source": [
    "print(type(My_CNOT))\n",
    "print(type(My_CNOT()))"
   ]
  },
  {
   "cell_type": "markdown",
   "metadata": {},
   "source": [
    "We can treat those gates as any other standard gate."
   ]
  },
  {
   "cell_type": "code",
   "execution_count": 38,
   "metadata": {},
   "outputs": [],
   "source": [
    "prog.apply(My_CNOT().dag().ctrl(), q)"
   ]
  },
  {
   "cell_type": "code",
   "execution_count": 39,
   "metadata": {},
   "outputs": [
    {
     "data": {
      "image/png": "[encoded data removed]",
      "text/plain": [
       "<IPython.core.display.Image object>"
      ]
     },
     "execution_count": 39,
     "metadata": {},
     "output_type": "execute_result"
    }
   ],
   "source": [
    "circ = prog.to_circ()\n",
    "%qatdisplay circ"
   ]
  },
  {
   "cell_type": "markdown",
   "metadata": {},
   "source": [
    "What if we want to associate a more complex function to an abstract gate? We will see briefly how to do it using `QRoutine`s."
   ]
  }
 ],
 "metadata": {
  "authors": [
   "Simon Martiel"
  ],
  "kernelspec": {
   "display_name": "Python 3 (ipykernel)",
   "language": "python",
   "name": "python3"
  },
  "language_info": {
   "codemirror_mode": {
    "name": "ipython",
    "version": 3
   },
   "file_extension": ".py",
   "mimetype": "text/x-python",
   "name": "python",
   "nbconvert_exporter": "python",
   "pygments_lexer": "ipython3",
   "version": "3.9.10"
  }
 },
 "nbformat": 4,
 "nbformat_minor": 1
}
