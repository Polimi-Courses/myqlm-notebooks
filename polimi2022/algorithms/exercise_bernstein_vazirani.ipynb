{
 "cells": [
  {
   "cell_type": "markdown",
   "id": "ec5c2cf1",
   "metadata": {},
   "source": [
    "# Exercise: Bernstein-Vazirani algorithm"
   ]
  },
  {
   "cell_type": "markdown",
   "id": "e36c9fdd",
   "metadata": {},
   "source": [
    "Implement the quantum oracle shown on the slide.\n",
    "As you saw in the previous lessons, this circuit implements functions $f(x) = q[4] \\otimes q[2] \\otimes q[0]$ "
   ]
  },
  {
   "cell_type": "code",
   "execution_count": 5,
   "id": "f19863aa",
   "metadata": {},
   "outputs": [
    {
     "data": {
      "text/html": [
       "\n",
       "        <iframe\n",
       "            width=\"600\"\n",
       "            height=\"300\"\n",
       "            src=\"pdfs/tikz_bernstein_vazirani_oracle.pdf\"\n",
       "            frameborder=\"0\"\n",
       "            allowfullscreen\n",
       "            \n",
       "        ></iframe>\n",
       "        "
      ],
      "text/plain": [
       "<IPython.lib.display.IFrame at 0x7fa39b25feb0>"
      ]
     },
     "execution_count": 5,
     "metadata": {},
     "output_type": "execute_result"
    }
   ],
   "source": [
    "from IPython.display import IFrame\n",
    "IFrame(\"pdfs/tikz_bernstein_vazirani_oracle.pdf\", width=600, height=300)"
   ]
  },
  {
   "cell_type": "markdown",
   "id": "6b0155b5",
   "metadata": {},
   "source": [
    "After the implementation, try to feed this oracle in the previously shown quantum circuit for Deutsch-Jozsa algorithm."
   ]
  },
  {
   "cell_type": "code",
   "execution_count": 1,
   "id": "d33396fd",
   "metadata": {},
   "outputs": [
    {
     "data": {
      "text/html": [
       "\n",
       "        <iframe\n",
       "            width=\"600\"\n",
       "            height=\"300\"\n",
       "            src=\"pdfs/tikz_deutsch_jozsa.pdf\"\n",
       "            frameborder=\"0\"\n",
       "            allowfullscreen\n",
       "            \n",
       "        ></iframe>\n",
       "        "
      ],
      "text/plain": [
       "<IPython.lib.display.IFrame at 0x7fa39b25f4f0>"
      ]
     },
     "execution_count": 1,
     "metadata": {},
     "output_type": "execute_result"
    }
   ],
   "source": [
    "from IPython.display import IFrame\n",
    "IFrame(\"pdfs/tikz_deutsch_jozsa.pdf\", width=600, height=300)"
   ]
  }
 ],
 "metadata": {
  "kernelspec": {
   "display_name": "Python 3 (ipykernel)",
   "language": "python",
   "name": "python3"
  },
  "language_info": {
   "codemirror_mode": {
    "name": "ipython",
    "version": 3
   },
   "file_extension": ".py",
   "mimetype": "text/x-python",
   "name": "python",
   "nbconvert_exporter": "python",
   "pygments_lexer": "ipython3",
   "version": "3.9.10"
  }
 },
 "nbformat": 4,
 "nbformat_minor": 5
}
