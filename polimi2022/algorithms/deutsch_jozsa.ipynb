{
 "cells": [
  {
   "cell_type": "markdown",
   "id": "4b747824",
   "metadata": {},
   "source": [
    "# Deutsch-Jozsa algorithm"
   ]
  },
  {
   "cell_type": "code",
   "execution_count": null,
   "id": "f0ab5239",
   "metadata": {},
   "outputs": [],
   "source": [
    "from qat.lang.AQASM import *"
   ]
  },
  {
   "cell_type": "markdown",
   "id": "29f511e3",
   "metadata": {},
   "source": [
    "TODO brief recap of alg"
   ]
  },
  {
   "cell_type": "markdown",
   "id": "8a817dda",
   "metadata": {},
   "source": [
    "Start by definining an abstract oracle"
   ]
  },
  {
   "cell_type": "code",
   "execution_count": null,
   "id": "045d22fb",
   "metadata": {},
   "outputs": [],
   "source": [
    "# This gates accept an int as parameter. It will contain the number of qubits\n",
    "my_oracle = AbstractGate(\"MyOracle\", [int])"
   ]
  },
  {
   "cell_type": "code",
   "execution_count": null,
   "id": "36425978",
   "metadata": {},
   "outputs": [],
   "source": [
    "nqubits = 5\n",
    "\n",
    "\n",
    "pr = Program()\n",
    "qr = pr.qalloc(nqubits)\n",
    "qout = pr.qalloc(1)\n",
    "\n",
    "pr.apply(X, qout)\n",
    "pr.apply(H, qout)\n",
    "\n",
    "for qb in qr:\n",
    "    pr.apply(H, qb)\n",
    "pr.apply(my_oracle(nqubits), [*qr, *qout])\n",
    "for qb in qr:\n",
    "    pr.apply(H, qb)\n",
    "pr.apply(H, qout)\n",
    "pr.apply(X, qout)"
   ]
  },
  {
   "cell_type": "code",
   "execution_count": null,
   "id": "5f040bfa",
   "metadata": {},
   "outputs": [],
   "source": [
    "circ = pr.to_circ()\n",
    "%qatdisplay circ"
   ]
  },
  {
   "cell_type": "markdown",
   "id": "db4cc6ce",
   "metadata": {},
   "source": [
    "Exception since we do not have a proper implementation"
   ]
  },
  {
   "cell_type": "code",
   "execution_count": null,
   "id": "8f9e0855",
   "metadata": {},
   "outputs": [],
   "source": [
    "from qat.qpus import PyLinalg\n",
    "qpu = PyLinalg()"
   ]
  },
  {
   "cell_type": "code",
   "execution_count": null,
   "id": "f9080274",
   "metadata": {},
   "outputs": [],
   "source": [
    "try:\n",
    "    qpu.submit(circ.to_job())\n",
    "except:\n",
    "    print(\"Exception, as expected\")"
   ]
  },
  {
   "cell_type": "markdown",
   "id": "94165e54",
   "metadata": {},
   "source": [
    "## Oracles"
   ]
  },
  {
   "cell_type": "markdown",
   "id": "fc0f17ac",
   "metadata": {},
   "source": [
    "Define the two oracles"
   ]
  },
  {
   "cell_type": "code",
   "execution_count": null,
   "id": "21ebae19",
   "metadata": {},
   "outputs": [],
   "source": [
    "@build_gate(\"MyOracle\", [int])\n",
    "def constant_oracle(nqubits):\n",
    "    qrout = QRoutine()\n",
    "    qreg = qrout.new_wires(nqubits)\n",
    "    qout = qrout.new_wires(1)\n",
    "    return qrout"
   ]
  },
  {
   "cell_type": "code",
   "execution_count": null,
   "id": "be90a033",
   "metadata": {},
   "outputs": [],
   "source": [
    "@build_gate(\"MyOracle\", [int])\n",
    "def balanced_oracle(nqubits):\n",
    "    qrout = QRoutine()\n",
    "    qreg = qrout.new_wires(nqubits)\n",
    "    qout = qrout.new_wires(1)\n",
    "    for qb in qreg:\n",
    "        qrout.apply(CNOT, qb, qout)\n",
    "        \n",
    "    return qrout"
   ]
  },
  {
   "cell_type": "markdown",
   "id": "96a2ce01",
   "metadata": {},
   "source": [
    "Link a proper oracle"
   ]
  },
  {
   "cell_type": "code",
   "execution_count": null,
   "id": "6fdd951c",
   "metadata": {},
   "outputs": [],
   "source": [
    "circ = pr.to_circ(link=[constant_oracle])\n",
    "res = qpu.submit(circ.to_job())\n",
    "for sample in res:\n",
    "    print(f\"State {sample.state} with amplitude {sample.amplitude}\")"
   ]
  },
  {
   "cell_type": "markdown",
   "id": "11610b69",
   "metadata": {},
   "source": [
    "or just sampling `qr` and getting probabilities"
   ]
  },
  {
   "cell_type": "code",
   "execution_count": null,
   "id": "fe5810b7",
   "metadata": {},
   "outputs": [],
   "source": [
    "circ = pr.to_circ(link=[constant_oracle])\n",
    "res = qpu.submit(circ.to_job(qubits=[qr]))\n",
    "for sample in res:\n",
    "    print(f\"State {sample.state} with probability {sample.probability}\")"
   ]
  },
  {
   "cell_type": "code",
   "execution_count": null,
   "id": "eeab2ca3",
   "metadata": {},
   "outputs": [],
   "source": [
    "circ = pr.to_circ(link=[balanced_oracle])\n",
    "res = qpu.submit(circ.to_job())\n",
    "for sample in res:\n",
    "    print(f\"State {sample.state} with amplitude {sample.amplitude}\")"
   ]
  },
  {
   "cell_type": "markdown",
   "id": "0c615130",
   "metadata": {},
   "source": [
    "or just sampling `qr` and getting probabilities"
   ]
  },
  {
   "cell_type": "code",
   "execution_count": null,
   "id": "9ea5da7a",
   "metadata": {},
   "outputs": [],
   "source": [
    "circ = pr.to_circ(link=[balanced_oracle])\n",
    "res = qpu.submit(circ.to_job(qubits=[qr]))\n",
    "for sample in res:\n",
    "    print(f\"State {sample.state} with amplitude {sample.probability}\")"
   ]
  },
  {
   "cell_type": "code",
   "execution_count": null,
   "id": "ffd3096b",
   "metadata": {},
   "outputs": [],
   "source": []
  }
 ],
 "metadata": {
  "kernelspec": {
   "display_name": "Python 3 (ipykernel)",
   "language": "python",
   "name": "python3"
  },
  "language_info": {
   "codemirror_mode": {
    "name": "ipython",
    "version": 3
   },
   "file_extension": ".py",
   "mimetype": "text/x-python",
   "name": "python",
   "nbconvert_exporter": "python",
   "pygments_lexer": "ipython3",
   "version": "3.9.10"
  }
 },
 "nbformat": 4,
 "nbformat_minor": 5
}
