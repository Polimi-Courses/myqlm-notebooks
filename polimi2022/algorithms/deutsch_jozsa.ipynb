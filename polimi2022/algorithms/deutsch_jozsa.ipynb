{
 "cells": [
  {
   "cell_type": "markdown",
   "id": "4b747824",
   "metadata": {},
   "source": [
    "# Deutsch-Jozsa algorithm"
   ]
  },
  {
   "cell_type": "markdown",
   "id": "b4fd7cb9",
   "metadata": {},
   "source": [
    "## Recap"
   ]
  },
  {
   "cell_type": "markdown",
   "id": "29f511e3",
   "metadata": {},
   "source": [
    "In this algorithm, we are given a Boolean function $f$, which takes as input a bitstring and returns\n",
    "either 0 or 1.\n",
    "\n",
    "The given $f$ can be either:\n",
    "- constant, i.e., it will always yields the same output value for any input\n",
    "- balanced, i.e., it will yield 0 when it is evaluated in half of the input configurations and 1 when it is evaluated in the other half – there are ( 2n\n",
    "\n",
    "Our goal is to determine whether the given function is balanced or constant."
   ]
  },
  {
   "cell_type": "markdown",
   "id": "a72e2989",
   "metadata": {},
   "source": [
    "## Abstract circuit"
   ]
  },
  {
   "cell_type": "code",
   "execution_count": 7,
   "id": "f0ab5239",
   "metadata": {},
   "outputs": [],
   "source": [
    "from qat.lang.AQASM import *"
   ]
  },
  {
   "cell_type": "markdown",
   "id": "8a817dda",
   "metadata": {},
   "source": [
    "We start by definining an abstract oracle gate."
   ]
  },
  {
   "cell_type": "code",
   "execution_count": 51,
   "id": "045d22fb",
   "metadata": {},
   "outputs": [],
   "source": [
    "# This gates accept an int as parameter. It will contain the number of qubits\n",
    "my_oracle = AbstractGate(\"MyOracle\", [int])"
   ]
  },
  {
   "cell_type": "markdown",
   "id": "c2cc0975",
   "metadata": {},
   "source": [
    "We proceed by defining our circuit. Here `nqubits` is a parameter that can vary (but don't go beyond 20 for the sake of your laptop!)"
   ]
  },
  {
   "cell_type": "code",
   "execution_count": 52,
   "id": "36425978",
   "metadata": {},
   "outputs": [],
   "source": [
    "nqubits = 5\n",
    "\n",
    "pr = Program()\n",
    "qr = pr.qalloc(nqubits)\n",
    "qout = pr.qalloc(1)\n",
    "\n",
    "pr.apply(X, qout)\n",
    "pr.apply(H, qout)\n",
    "\n",
    "for qb in qr:\n",
    "    pr.apply(H, qb)\n",
    "# Note how we apply the oracle even if it is not defined\n",
    "pr.apply(my_oracle(nqubits), [*qr, *qout])\n",
    "for qb in qr:\n",
    "    pr.apply(H, qb)\n",
    "pr.apply(H, qout)\n",
    "pr.apply(X, qout)"
   ]
  },
  {
   "cell_type": "code",
   "execution_count": 53,
   "id": "5f040bfa",
   "metadata": {},
   "outputs": [
    {
     "data": {
      "image/png": "[encoded data removed]",
      "text/plain": [
       "<IPython.core.display.Image object>"
      ]
     },
     "execution_count": 53,
     "metadata": {},
     "output_type": "execute_result"
    }
   ],
   "source": [
    "circ = pr.to_circ()\n",
    "%qatdisplay circ"
   ]
  },
  {
   "cell_type": "markdown",
   "id": "db4cc6ce",
   "metadata": {},
   "source": [
    "At this point, if we try to simulate the circuit, we will have an exception since we do not have a valid implementation of the abstract gate in terms of standard gates."
   ]
  },
  {
   "cell_type": "code",
   "execution_count": 54,
   "id": "8f9e0855",
   "metadata": {},
   "outputs": [],
   "source": [
    "from qat.qpus import PyLinalg\n",
    "qpu = PyLinalg()"
   ]
  },
  {
   "cell_type": "code",
   "execution_count": 55,
   "id": "f9080274",
   "metadata": {},
   "outputs": [
    {
     "name": "stderr",
     "output_type": "stream",
     "text": [
      "Traceback (most recent call last):\n",
      "  File \"/mnt/internal/LinuxData/pyenv/versions/3.9.10/envs/myqlm9/lib/python3.9/site-packages/qat/pylinalg/simulator.py\", line 154, in simulate\n",
      "    nctrls, matrix = get_gate_matrix(gdef, circuit.gateDic)\n",
      "AttributeError: 'NoneType' object has no attribute 'nRows'\n",
      "\n",
      "The above exception was the direct cause of the following exception:\n",
      "\n",
      "Traceback (most recent call last):\n",
      "  File \"/tmp/ipykernel_71970/2240548949.py\", line 2, in <cell line: 1>\n",
      "    qpu.submit(circ.to_job())\n",
      "qat.comm.exceptions.ttypes.QPUException: QPUException(code=11, modulename='qat.pylinalg', message='Gate MyOracle has no matrix!', file='qat/pylinalg/simulator.py', line=103)\n"
     ]
    }
   ],
   "source": [
    "try:\n",
    "    qpu.submit(circ.to_job())\n",
    "except:\n",
    "    import traceback\n",
    "    traceback.print_exc(limit=1)"
   ]
  },
  {
   "cell_type": "markdown",
   "id": "94165e54",
   "metadata": {},
   "source": [
    "## Oracles"
   ]
  },
  {
   "cell_type": "markdown",
   "id": "fc0f17ac",
   "metadata": {},
   "source": [
    "Let's now define the two oracles we need. First one is a constant oracle. It doesn't apply any gate at all, so it will produce always the same result at its output."
   ]
  },
  {
   "cell_type": "code",
   "execution_count": 56,
   "id": "21ebae19",
   "metadata": {},
   "outputs": [],
   "source": [
    "@build_gate(\"MyOracle\", [int])\n",
    "def constant_zero_oracle(nqubits):\n",
    "    qrout = QRoutine()\n",
    "    qreg = qrout.new_wires(nqubits)\n",
    "    qout = qrout.new_wires(1)\n",
    "    return qrout"
   ]
  },
  {
   "cell_type": "markdown",
   "id": "32c4a52f",
   "metadata": {},
   "source": [
    "*There is another oracle of this kind. Can you produce it?*"
   ]
  },
  {
   "cell_type": "markdown",
   "id": "eff881a9",
   "metadata": {},
   "source": [
    "The second one, instead, is a balanced oracle. The simplest way to produce this kind of oracle is through the following circuit (*can you guess why?*)"
   ]
  },
  {
   "cell_type": "code",
   "execution_count": 57,
   "id": "be90a033",
   "metadata": {},
   "outputs": [],
   "source": [
    "@build_gate(\"MyOracle\", [int], arity=lambda n:n)\n",
    "def balanced_oracle(nqubits):\n",
    "    qrout = QRoutine()\n",
    "    qreg = qrout.new_wires(nqubits)\n",
    "    qout = qrout.new_wires(1)\n",
    "    for qb in qreg:\n",
    "        qrout.apply(CNOT, qb, qout)\n",
    "        \n",
    "    return qrout"
   ]
  },
  {
   "cell_type": "markdown",
   "id": "3f2e12d3",
   "metadata": {},
   "source": [
    "Note the usage of the `arity` parameter in the previous cell. Indeed, for gates of variable arities (i.e., number of qubits it acts on) it is possible to specify an `arity_generator` to the `AbstractGate` constructor. In this way, we give more information to `pyAQASM` in order to statically detect potential mistakes during the circuit construction. Also, we can display the circuit. "
   ]
  },
  {
   "cell_type": "code",
   "execution_count": 58,
   "id": "3476fb1a",
   "metadata": {},
   "outputs": [
    {
     "data": {
      "image/png": "[encoded data removed]",
      "text/plain": [
       "<IPython.core.display.Image object>"
      ]
     },
     "execution_count": 58,
     "metadata": {},
     "output_type": "execute_result"
    },
    {
     "data": {
      "image/png": "[encoded data removed]",
      "text/plain": [
       "<IPython.core.display.Image object>"
      ]
     },
     "execution_count": 58,
     "metadata": {},
     "output_type": "execute_result"
    }
   ],
   "source": [
    "example = balanced_oracle(4)\n",
    "%qatdisplay example\n",
    "%qatdisplay example --depth 1"
   ]
  },
  {
   "cell_type": "markdown",
   "id": "96a2ce01",
   "metadata": {},
   "source": [
    "## Simulation"
   ]
  },
  {
   "cell_type": "markdown",
   "id": "ee67c2e9",
   "metadata": {},
   "source": [
    "Let's now simulate the circuit. In this case, we use a nice feature of myQLM called linking. It allows to bind any abstract gate definition to a function producing a circuit implemented through standard quantum gates."
   ]
  },
  {
   "cell_type": "markdown",
   "id": "a6e49069",
   "metadata": {},
   "source": [
    "The first linked circuit will be the constant zero oracle."
   ]
  },
  {
   "cell_type": "code",
   "execution_count": 60,
   "id": "6fdd951c",
   "metadata": {},
   "outputs": [
    {
     "data": {
      "image/png": "[encoded data removed]",
      "text/plain": [
       "<IPython.core.display.Image object>"
      ]
     },
     "execution_count": 60,
     "metadata": {},
     "output_type": "execute_result"
    },
    {
     "data": {
      "image/png": "[encoded data removed]",
      "text/plain": [
       "<IPython.core.display.Image object>"
      ]
     },
     "execution_count": 60,
     "metadata": {},
     "output_type": "execute_result"
    }
   ],
   "source": [
    "circ = pr.to_circ(link=[constant_zero_oracle])\n",
    "%qatdisplay circ\n",
    "%qatdisplay circ --depth=1"
   ]
  },
  {
   "cell_type": "code",
   "execution_count": 61,
   "id": "b58428ce",
   "metadata": {},
   "outputs": [
    {
     "name": "stdout",
     "output_type": "stream",
     "text": [
      "State |00000>|0> with amplitude (0.999999999999999+0j)\n"
     ]
    }
   ],
   "source": [
    "res = qpu.submit(circ.to_job())\n",
    "for sample in res:\n",
    "    print(f\"State {sample.state} with amplitude {sample.amplitude}\")"
   ]
  },
  {
   "cell_type": "markdown",
   "id": "11610b69",
   "metadata": {},
   "source": [
    "We can also just sample `qr` to get probabilities instead of amplitudes."
   ]
  },
  {
   "cell_type": "code",
   "execution_count": 62,
   "id": "fe5810b7",
   "metadata": {},
   "outputs": [
    {
     "name": "stdout",
     "output_type": "stream",
     "text": [
      "State |00000> with probability 0.999999999999998\n"
     ]
    }
   ],
   "source": [
    "res = qpu.submit(circ.to_job(qubits=[qr]))\n",
    "for sample in res:\n",
    "    print(f\"State {sample.state} with probability {sample.probability}\")"
   ]
  },
  {
   "cell_type": "markdown",
   "id": "a8819898",
   "metadata": {},
   "source": [
    "Let's see the result for the balanced oracle."
   ]
  },
  {
   "cell_type": "code",
   "execution_count": 64,
   "id": "eeab2ca3",
   "metadata": {},
   "outputs": [
    {
     "data": {
      "image/png": "[encoded data removed]",
      "text/plain": [
       "<IPython.core.display.Image object>"
      ]
     },
     "execution_count": 64,
     "metadata": {},
     "output_type": "execute_result"
    }
   ],
   "source": [
    "circ = pr.to_circ(link=[balanced_oracle])\n",
    "%qatdisplay circ --depth 1"
   ]
  },
  {
   "cell_type": "code",
   "execution_count": 65,
   "id": "2e27ee20",
   "metadata": {},
   "outputs": [
    {
     "name": "stdout",
     "output_type": "stream",
     "text": [
      "State |11111>|0> with amplitude (0.999999999999999+0j)\n"
     ]
    }
   ],
   "source": [
    "res = qpu.submit(circ.to_job())\n",
    "for sample in res:\n",
    "    print(f\"State {sample.state} with amplitude {sample.amplitude}\")"
   ]
  },
  {
   "cell_type": "markdown",
   "id": "0c615130",
   "metadata": {},
   "source": [
    "As before, we can just sample `qr` to get the probability."
   ]
  },
  {
   "cell_type": "code",
   "execution_count": 66,
   "id": "9ea5da7a",
   "metadata": {},
   "outputs": [
    {
     "name": "stdout",
     "output_type": "stream",
     "text": [
      "State |11111> with amplitude 0.999999999999998\n"
     ]
    }
   ],
   "source": [
    "res = qpu.submit(circ.to_job(qubits=[qr]))\n",
    "for sample in res:\n",
    "    print(f\"State {sample.state} with amplitude {sample.probability}\")"
   ]
  },
  {
   "cell_type": "code",
   "execution_count": null,
   "id": "18e7a913",
   "metadata": {},
   "outputs": [],
   "source": []
  }
 ],
 "metadata": {
  "kernelspec": {
   "display_name": "Python 3 (ipykernel)",
   "language": "python",
   "name": "python3"
  },
  "language_info": {
   "codemirror_mode": {
    "name": "ipython",
    "version": 3
   },
   "file_extension": ".py",
   "mimetype": "text/x-python",
   "name": "python",
   "nbconvert_exporter": "python",
   "pygments_lexer": "ipython3",
   "version": "3.9.10"
  }
 },
 "nbformat": 4,
 "nbformat_minor": 5
}
