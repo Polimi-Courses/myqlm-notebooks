{
 "cells": [
  {
   "cell_type": "markdown",
   "id": "120c86e4",
   "metadata": {},
   "source": [
    "# Grover"
   ]
  },
  {
   "cell_type": "markdown",
   "id": "c44b5503",
   "metadata": {},
   "source": [
    "## Grover's algorithm\n",
    "\n",
    "Grover's algorithm has three main components:\n",
    "- an input preparation stage, in which we prepare a state $|s\\rangle$. In the original Grover's framework $|s\\rangle = \\frac{1}{\\sqrt{2^n}}\\sum |i\\rangle$\n",
    "- a diffusion operator $\\mathcal{D} = 2 |s\\rangle\\langle s| - I$\n",
    "- an oracle \"marking\" some basis states by flipping their phases: $O_f = \\sum_i (-1)^{f(i)}|i\\rangle\\langle i|$ for some boolean predicate $f$"
   ]
  },
  {
   "cell_type": "markdown",
   "id": "029a3849",
   "metadata": {},
   "source": [
    "\n",
    "### Input preparation"
   ]
  },
  {
   "cell_type": "code",
   "execution_count": 41,
   "id": "601cde3d",
   "metadata": {},
   "outputs": [],
   "source": [
    "from qat.lang.AQASM import *\n",
    "\n",
    "@build_gate(\"IN\", [int])\n",
    "def inputop(nbqbits):\n",
    "    rout = QRoutine()\n",
    "    wires = rout.new_wires(nbqbits)\n",
    "    # a compute context to simplify gate application writing\n",
    "    with rout.compute():\n",
    "        for wire in wires:\n",
    "            H(wire)\n",
    "    return rout"
   ]
  },
  {
   "cell_type": "markdown",
   "id": "1d584ef7",
   "metadata": {},
   "source": [
    "\n",
    "### Diffusion operator\n",
    "\n",
    "Lets first start by programming a piece of pyAQASM code that will generate a diffusion operator.\n",
    "$\\mathcal{D}$ can be obtained by:\n",
    "- performing a basis change from the computation basis to the diagonal basis (i.e a cascade of H gates)\n",
    "- performing a collectiong of bit flips in order to send the $|0^n\\rangle$ state onto $|1^n\\rangle$\n",
    "- performing a \"global\" controlled-Z gate in order to flip the phase of $|0^n\\rangle$\n",
    "- undoing the bit flips\n",
    "- undoing the basis change\n",
    "\n",
    "\n",
    "This can be easily expressed in pyAQASM as follows:"
   ]
  },
  {
   "cell_type": "code",
   "execution_count": 42,
   "id": "d84dbcb9",
   "metadata": {},
   "outputs": [
    {
     "data": {
      "image/png": "[encoded data removed]",
      "text/plain": [
       "<IPython.core.display.Image object>"
      ]
     },
     "execution_count": 42,
     "metadata": {},
     "output_type": "execute_result"
    },
    {
     "data": {
      "image/png": "[encoded data removed]",
      "text/plain": [
       "<IPython.core.display.Image object>"
      ]
     },
     "execution_count": 42,
     "metadata": {},
     "output_type": "execute_result"
    }
   ],
   "source": [
    "@build_gate(\"D\", [int], arity=lambda n: n)\n",
    "def diffusion(nbqbits):\n",
    "    rout = QRoutine()\n",
    "    wires = rout.new_wires(nbqbits)\n",
    "    rout2 = inputop(nbqbits)\n",
    "    rout.apply(rout2, wires)\n",
    "    with rout.compute():\n",
    "        for wire in wires:\n",
    "            X(wire)\n",
    "    Z.ctrl(nbqbits - 1)(wires)\n",
    "    rout.uncompute()\n",
    "    rout.apply(rout2.dag(), wires)\n",
    "    return rout\n",
    "\n",
    "example = diffusion(4)\n",
    "%qatdisplay example\n",
    "%qatdisplay example --depth 1"
   ]
  },
  {
   "cell_type": "markdown",
   "id": "4351da51",
   "metadata": {},
   "source": [
    "\n",
    "### Oracle\n",
    "\n",
    "Fixed string oracle.\n",
    "\n"
   ]
  },
  {
   "cell_type": "code",
   "execution_count": 48,
   "id": "f12b89a6",
   "metadata": {},
   "outputs": [],
   "source": [
    "@build_gate(\"O\", [int, str])\n",
    "def fixed_string_oracle(nbqbits, bitstring):\n",
    "    \"\"\"Returns an oracle producing a phase flip only for the given bitstring\"\"\"\n",
    "    qrout = QRoutine()\n",
    "    qreg = qrout.new_wires(nbqbits)\n",
    "    for bit, qbit in zip(bitstring, qreg):\n",
    "        if bit == \"0\":\n",
    "            qrout.apply(X, qbit)\n",
    "        elif bit != \"1\":\n",
    "            raise Exception(\"Only 0's and 1's admissible\")\n",
    "    qrout.apply(Z.ctrl(nbqbits-1), qreg[:-1], qreg[-1])\n",
    "    for bit, qbit in zip(bitstring, qreg):\n",
    "        if bit == \"0\":\n",
    "            qrout.apply(X, qbit)\n",
    "            \n",
    "    return qrout\n",
    "    "
   ]
  },
  {
   "cell_type": "markdown",
   "id": "4d0586f0",
   "metadata": {},
   "source": [
    "### All together"
   ]
  },
  {
   "cell_type": "code",
   "execution_count": 54,
   "id": "0163d1ff",
   "metadata": {},
   "outputs": [
    {
     "data": {
      "image/png": "[encoded data removed]",
      "text/plain": [
       "<IPython.core.display.Image object>"
      ]
     },
     "execution_count": 54,
     "metadata": {},
     "output_type": "execute_result"
    }
   ],
   "source": [
    "from math import sqrt, ceil, pi, asin\n",
    "nqbits = 3\n",
    "pr = Program()\n",
    "qr = pr.qalloc(nqbits)\n",
    "\n",
    "iters = int(ceil(pi/(4*asin(1/sqrt(2**3))) - 1/2))\n",
    "inpo = inputop(nqbits)\n",
    "difo = diffusion(nqbits)\n",
    "oracleo = fixed_string_oracle(nqbits, \"011\")\n",
    "\n",
    "pr.apply(inpo, qr)\n",
    "for _ in range(iters):\n",
    "    pr.apply(oracleo, qr)\n",
    "    pr.apply(difo, qr)\n",
    "    \n",
    "cr = pr.to_circ()\n",
    "%qatdisplay cr"
   ]
  },
  {
   "cell_type": "code",
   "execution_count": 55,
   "id": "6e25dba6",
   "metadata": {},
   "outputs": [
    {
     "name": "stdout",
     "output_type": "stream",
     "text": [
      "State |000> with amplitude (-0.08838834764831832+0j) and probability 0.007812499999999979\n",
      "State |001> with amplitude (-0.08838834764831825+0j) and probability 0.007812499999999967\n",
      "State |010> with amplitude (-0.08838834764831832+0j) and probability 0.007812499999999979\n",
      "State |011> with amplitude (0.9722718241315016+0j) and probability 0.9453124999999976\n",
      "State |100> with amplitude (-0.08838834764831832+0j) and probability 0.007812499999999979\n",
      "State |101> with amplitude (-0.08838834764831825+0j) and probability 0.007812499999999967\n",
      "State |110> with amplitude (-0.08838834764831832+0j) and probability 0.007812499999999979\n",
      "State |111> with amplitude (-0.08838834764831821+0j) and probability 0.007812499999999959\n"
     ]
    }
   ],
   "source": [
    "from qat.qpus import PyLinalg\n",
    "qpu = PyLinalg()\n",
    "res = qpu.submit(cr.to_job())\n",
    "for sample in res:\n",
    "    print(f\"State {sample.state} with amplitude {sample.amplitude} and probability {sample.probability}\")"
   ]
  },
  {
   "cell_type": "code",
   "execution_count": null,
   "id": "0ff3446e",
   "metadata": {},
   "outputs": [],
   "source": []
  }
 ],
 "metadata": {
  "kernelspec": {
   "display_name": "Python 3 (ipykernel)",
   "language": "python",
   "name": "python3"
  },
  "language_info": {
   "codemirror_mode": {
    "name": "ipython",
    "version": 3
   },
   "file_extension": ".py",
   "mimetype": "text/x-python",
   "name": "python",
   "nbconvert_exporter": "python",
   "pygments_lexer": "ipython3",
   "version": "3.9.10"
  }
 },
 "nbformat": 4,
 "nbformat_minor": 5
}
