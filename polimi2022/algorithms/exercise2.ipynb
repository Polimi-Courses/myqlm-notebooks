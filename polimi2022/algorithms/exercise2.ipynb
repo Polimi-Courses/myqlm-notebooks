{
 "cells": [
  {
   "cell_type": "markdown",
   "id": "ec5c2cf1",
   "metadata": {},
   "source": [
    "# Example 2"
   ]
  },
  {
   "cell_type": "markdown",
   "id": "e36c9fdd",
   "metadata": {},
   "source": [
    "Implement the quantum oracle shown on the slide.\n",
    "As you saw in the previous lessons, this circuit implements functions $f(x) = q[4] \\otimes q[2] \\otimes q[0]$ "
   ]
  },
  {
   "cell_type": "markdown",
   "id": "6b0155b5",
   "metadata": {},
   "source": [
    "After the implementation, try to feed this oracle in the previously shown quantum circuit for Deutsch-Jozsa algorithm."
   ]
  }
 ],
 "metadata": {
  "kernelspec": {
   "display_name": "Python 3 (ipykernel)",
   "language": "python",
   "name": "python3"
  },
  "language_info": {
   "codemirror_mode": {
    "name": "ipython",
    "version": 3
   },
   "file_extension": ".py",
   "mimetype": "text/x-python",
   "name": "python",
   "nbconvert_exporter": "python",
   "pygments_lexer": "ipython3",
   "version": "3.9.10"
  }
 },
 "nbformat": 4,
 "nbformat_minor": 5
}
