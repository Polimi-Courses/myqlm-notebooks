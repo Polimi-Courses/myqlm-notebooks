{
 "cells": [
  {
   "cell_type": "markdown",
   "id": "76b0ff0a",
   "metadata": {},
   "source": [
    "# Bernstein-Vazirani"
   ]
  },
  {
   "cell_type": "markdown",
   "id": "75e5eed0",
   "metadata": {},
   "source": [
    "## The oracle"
   ]
  },
  {
   "cell_type": "code",
   "execution_count": 13,
   "id": "ff416c8e",
   "metadata": {},
   "outputs": [],
   "source": [
    "from qat.lang.AQASM import *"
   ]
  },
  {
   "cell_type": "markdown",
   "id": "bb0ff23e",
   "metadata": {},
   "source": [
    "In this oracle implementation, we will provide a random bitstring. Remember that, given bitstring $a = [a_0, a_1, \\ldots, a_{n-1}$, the function implemented by the oracle is $\\bigotimes_{i=0}^{n-1}a_i$ "
   ]
  },
  {
   "cell_type": "code",
   "execution_count": 23,
   "id": "0df182d8",
   "metadata": {},
   "outputs": [],
   "source": [
    "import random\n",
    "@build_gate(\"MyOracle\", [int])\n",
    "def bitwise_product(nqubits,):\n",
    "    qrout = QRoutine()\n",
    "    qreg = qrout.new_wires(nqubits)\n",
    "    qout = qrout.new_wires(1)\n",
    "    bitstring = bin(random.getrandbits(nqubits))[2:].zfill(nqubits)\n",
    "    print(f\"Randomly generated bitstring is {bitstring}\")\n",
    "    for bit, qbit in zip(bitstring, qreg):\n",
    "        if bit == \"1\":\n",
    "            qrout.apply(CNOT, qbit, qout)\n",
    "        elif bit != \"0\":\n",
    "            raise Exception(\"In a bitsring only 0's and 1's are admissible\")\n",
    "    return qrout\n",
    "            "
   ]
  },
  {
   "cell_type": "markdown",
   "id": "9c47e2d8",
   "metadata": {},
   "source": [
    "Notice how the print statement is not executed. *Can you guess why?*"
   ]
  },
  {
   "cell_type": "markdown",
   "id": "a81697b8",
   "metadata": {},
   "source": [
    "## The whole circuit"
   ]
  },
  {
   "cell_type": "code",
   "execution_count": 17,
   "id": "f84eb368",
   "metadata": {},
   "outputs": [],
   "source": [
    "nqubits = 5"
   ]
  },
  {
   "cell_type": "code",
   "execution_count": 24,
   "id": "52df6ac4",
   "metadata": {},
   "outputs": [],
   "source": [
    "# Previously we used an abstract gate\n",
    "# my_oracle = AbstractGate(\"MyOracle\", [int])\n",
    "\n",
    "pr = Program()\n",
    "qr = pr.qalloc(nqubits)\n",
    "qout = pr.qalloc(1)\n",
    "\n",
    "pr.apply(X, qout)\n",
    "pr.apply(H, qout)\n",
    "\n",
    "for qb in qr:\n",
    "    pr.apply(H, qb)\n",
    "# now we provide the implementation of the oracle directly\n",
    "pr.apply(bitwise_product(nqubits), [*qr, *qout])\n",
    "for qb in qr:\n",
    "    pr.apply(H, qb)\n",
    "pr.apply(H, qout)\n",
    "pr.apply(X, qout)"
   ]
  },
  {
   "cell_type": "code",
   "execution_count": 25,
   "id": "9b0caf92",
   "metadata": {},
   "outputs": [
    {
     "name": "stdout",
     "output_type": "stream",
     "text": [
      "Randomly generated bitstring is 11101\n"
     ]
    },
    {
     "data": {
      "image/png": "[encoded data removed]",
      "text/plain": [
       "<IPython.core.display.Image object>"
      ]
     },
     "execution_count": 25,
     "metadata": {},
     "output_type": "execute_result"
    }
   ],
   "source": [
    "# Notice how the print statement is executed at circuit generation time.\n",
    "circ = pr.to_circ()\n",
    "%qatdisplay circ"
   ]
  },
  {
   "cell_type": "markdown",
   "id": "33eb2bce",
   "metadata": {},
   "source": [
    "If we want to display the whole circuit, we can pass the --depth parameter"
   ]
  },
  {
   "cell_type": "code",
   "execution_count": 26,
   "id": "15b28226",
   "metadata": {},
   "outputs": [
    {
     "data": {
      "image/png": "[encoded data removed]",
      "text/plain": [
       "<IPython.core.display.Image object>"
      ]
     },
     "execution_count": 26,
     "metadata": {},
     "output_type": "execute_result"
    }
   ],
   "source": [
    "%qatdisplay circ --depth 2"
   ]
  },
  {
   "cell_type": "markdown",
   "id": "81a8c659",
   "metadata": {},
   "source": [
    "Having already provided the right implementation, we can simulate without the additional linking stage"
   ]
  },
  {
   "cell_type": "code",
   "execution_count": 27,
   "id": "50cf3467",
   "metadata": {},
   "outputs": [
    {
     "name": "stdout",
     "output_type": "stream",
     "text": [
      "State |11101>|0> with amplitude (0.999999999999999+0j)\n"
     ]
    }
   ],
   "source": [
    "from qat.qpus import PyLinalg\n",
    "qpu = PyLinalg()\n",
    "res = qpu.submit(circ.to_job())\n",
    "for sample in res:\n",
    "    print(f\"State {sample.state} with amplitude {sample.amplitude}\")"
   ]
  }
 ],
 "metadata": {
  "kernelspec": {
   "display_name": "Python 3 (ipykernel)",
   "language": "python",
   "name": "python3"
  },
  "language_info": {
   "codemirror_mode": {
    "name": "ipython",
    "version": 3
   },
   "file_extension": ".py",
   "mimetype": "text/x-python",
   "name": "python",
   "nbconvert_exporter": "python",
   "pygments_lexer": "ipython3",
   "version": "3.9.10"
  }
 },
 "nbformat": 4,
 "nbformat_minor": 5
}
