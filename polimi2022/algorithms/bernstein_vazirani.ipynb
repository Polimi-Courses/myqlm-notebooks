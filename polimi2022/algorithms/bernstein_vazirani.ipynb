{
 "cells": [
  {
   "cell_type": "markdown",
   "id": "76b0ff0a",
   "metadata": {},
   "source": [
    "# Bernstein-Vazirani"
   ]
  },
  {
   "cell_type": "code",
   "execution_count": null,
   "id": "ff416c8e",
   "metadata": {},
   "outputs": [],
   "source": [
    "from qat.lang.AQASM import *"
   ]
  },
  {
   "cell_type": "code",
   "execution_count": null,
   "id": "0df182d8",
   "metadata": {},
   "outputs": [],
   "source": [
    "@build_gate(\"MyOracle\", [int, str])\n",
    "def bitwise_product(nqubits, bitstring):\n",
    "    qrout = QRoutine()\n",
    "    qreg = qrout.new_wires(nqubits)\n",
    "    qout = qrout.new_wires(1)\n",
    "    for bit, qbit in zip(bitstring, qreg):\n",
    "        if bit == \"1\":\n",
    "            qrout.apply(CNOT, qbit, qout)\n",
    "        elif bit != \"0\":\n",
    "            raise Exception(\"In a bitsring only 0's and 1's are admissible\")\n",
    "    return qrout\n",
    "            "
   ]
  },
  {
   "cell_type": "markdown",
   "id": "9c47e2d8",
   "metadata": {},
   "source": [
    "Same program as Deutsch-Jozsa"
   ]
  },
  {
   "cell_type": "markdown",
   "id": "b8faff9f",
   "metadata": {},
   "source": [
    "We first generate a random bitstring"
   ]
  },
  {
   "cell_type": "code",
   "execution_count": null,
   "id": "f84eb368",
   "metadata": {},
   "outputs": [],
   "source": [
    "nqubits = 5"
   ]
  },
  {
   "cell_type": "code",
   "execution_count": null,
   "id": "88b7912b",
   "metadata": {},
   "outputs": [],
   "source": [
    "import random\n",
    "bitstring = bin(random.getrandbits(nqubits))[2:].zfill(nqubits)\n",
    "\n",
    "print(bitstring)"
   ]
  },
  {
   "cell_type": "code",
   "execution_count": null,
   "id": "52df6ac4",
   "metadata": {},
   "outputs": [],
   "source": [
    "\n",
    "# Previously we used an abstract gate\n",
    "# my_oracle = AbstractGate(\"MyOracle\", [int])\n",
    "\n",
    "pr = Program()\n",
    "qr = pr.qalloc(nqubits)\n",
    "qout = pr.qalloc(1)\n",
    "\n",
    "pr.apply(X, qout)\n",
    "pr.apply(H, qout)\n",
    "\n",
    "for qb in qr:\n",
    "    pr.apply(H, qb)\n",
    "# now we provide the implementation of the oracle directly\n",
    "pr.apply(bitwise_product(nqubits, bitstring), [*qr, *qout])\n",
    "for qb in qr:\n",
    "    pr.apply(H, qb)\n",
    "pr.apply(H, qout)\n",
    "pr.apply(X, qout)"
   ]
  },
  {
   "cell_type": "code",
   "execution_count": null,
   "id": "9b0caf92",
   "metadata": {},
   "outputs": [],
   "source": [
    "circ = pr.to_circ()\n",
    "%qatdisplay circ"
   ]
  },
  {
   "cell_type": "markdown",
   "id": "33eb2bce",
   "metadata": {},
   "source": [
    "If we want to display the whole circuit, we can pass the --depth parameter"
   ]
  },
  {
   "cell_type": "code",
   "execution_count": null,
   "id": "15b28226",
   "metadata": {},
   "outputs": [],
   "source": [
    "%qatdisplay circ --depth 2"
   ]
  },
  {
   "cell_type": "markdown",
   "id": "81a8c659",
   "metadata": {},
   "source": [
    "Having provided the right implementation, we can simulate without the additional linking stage"
   ]
  },
  {
   "cell_type": "code",
   "execution_count": null,
   "id": "50cf3467",
   "metadata": {},
   "outputs": [],
   "source": [
    "from qat.qpus import PyLinalg\n",
    "qpu = PyLinalg()\n",
    "res = qpu.submit(circ.to_job())\n",
    "for sample in res:\n",
    "    print(f\"State {sample.state} with amplitude {sample.amplitude}\")"
   ]
  }
 ],
 "metadata": {
  "kernelspec": {
   "display_name": "Python 3 (ipykernel)",
   "language": "python",
   "name": "python3"
  },
  "language_info": {
   "codemirror_mode": {
    "name": "ipython",
    "version": 3
   },
   "file_extension": ".py",
   "mimetype": "text/x-python",
   "name": "python",
   "nbconvert_exporter": "python",
   "pygments_lexer": "ipython3",
   "version": "3.9.10"
  }
 },
 "nbformat": 4,
 "nbformat_minor": 5
}
