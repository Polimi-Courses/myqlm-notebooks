{
 "cells": [
  {
   "cell_type": "markdown",
   "id": "658dbfc6",
   "metadata": {},
   "source": [
    "# Teleportation"
   ]
  },
  {
   "cell_type": "code",
   "execution_count": 12,
   "id": "40bbd44c",
   "metadata": {},
   "outputs": [],
   "source": [
    "from qat.lang.AQASM import *"
   ]
  },
  {
   "cell_type": "markdown",
   "id": "a341e18f",
   "metadata": {},
   "source": [
    "`_a` is for Alice, `_b` is for Bob, `_c` stands for classical"
   ]
  },
  {
   "cell_type": "code",
   "execution_count": 17,
   "id": "61e833ef",
   "metadata": {},
   "outputs": [],
   "source": [
    "pr = Program()\n",
    "to_teleport_a = pr.qalloc()\n",
    "epr_pair_a = pr.qalloc()\n",
    "epr_pair_b = pr.qalloc()\n",
    "\n",
    "epr_pair_a_c = pr.calloc()\n",
    "to_teleport_a_c = pr.calloc()"
   ]
  },
  {
   "cell_type": "markdown",
   "id": "95bf5526",
   "metadata": {},
   "source": [
    "Prepare the EPR pair"
   ]
  },
  {
   "cell_type": "code",
   "execution_count": 18,
   "id": "7a74e8dd",
   "metadata": {},
   "outputs": [],
   "source": [
    "pr.apply(H, epr_pair_a)\n",
    "pr.apply(CNOT, epr_pair_a, epr_pair_b)"
   ]
  },
  {
   "cell_type": "markdown",
   "id": "3df14ec4",
   "metadata": {},
   "source": [
    "Now Alice has her half of the EPR pair (`epr_pair_a`) and Bob the other one (`epr_pair_b`).\n",
    "We prepare a random states on the qubit that Alice wants to teleport. To do so, we apply random rotations on the three axis."
   ]
  },
  {
   "cell_type": "code",
   "execution_count": 19,
   "id": "32fcb34d",
   "metadata": {},
   "outputs": [
    {
     "data": {
      "image/png": "[encoded data removed]",
      "text/plain": [
       "<IPython.core.display.Image object>"
      ]
     },
     "execution_count": 19,
     "metadata": {},
     "output_type": "execute_result"
    }
   ],
   "source": [
    "from random import random\n",
    "from math import pi\n",
    "\n",
    "pr.apply(RX(random() * 2 * pi), to_teleport_a)\n",
    "pr.apply(RY(random() * 2 * pi), to_teleport_a)\n",
    "pr.apply(RZ(random() * 2 * pi), to_teleport_a)\n",
    "\n",
    "circ = pr.to_circ()\n",
    "%qatdisplay circ"
   ]
  },
  {
   "cell_type": "markdown",
   "id": "73830010",
   "metadata": {},
   "source": [
    "In order to show the original states contained into the `to_teleport` qubit, we clone the `Program` object. In other words, the idea is to show the state we would have obtained before the teleportation."
   ]
  },
  {
   "cell_type": "code",
   "execution_count": 20,
   "id": "a89c05fc",
   "metadata": {},
   "outputs": [],
   "source": [
    "import copy\n",
    "pr2 = copy.deepcopy(pr)"
   ]
  },
  {
   "cell_type": "markdown",
   "id": "b7b61de2",
   "metadata": {},
   "source": [
    "Let's try to simulate the original program and see what we obain."
   ]
  },
  {
   "cell_type": "code",
   "execution_count": 21,
   "id": "ac71e728",
   "metadata": {},
   "outputs": [
    {
     "name": "stdout",
     "output_type": "stream",
     "text": [
      "State |0>|0>|0> with amplitude (0.48217263021749424-0.4119332031274916j)\n",
      "State |0>|1>|1> with amplitude (0.48217263021749424-0.4119332031274916j)\n",
      "State |1>|0>|0> with amplitude (-0.05509256403585444-0.3078723765105007j)\n",
      "State |1>|1>|1> with amplitude (-0.05509256403585444-0.3078723765105007j)\n"
     ]
    }
   ],
   "source": [
    "from qat.qpus import PyLinalg\n",
    "\n",
    "qpu = PyLinalg()\n",
    "\n",
    "res = qpu.submit(circ.to_job())\n",
    "for sample in res:\n",
    "    print(f\"State {sample.state} with amplitude {sample.amplitude}\")"
   ]
  },
  {
   "cell_type": "markdown",
   "id": "30457809",
   "metadata": {},
   "source": [
    "It is more useful for use to measure only the probability of the `to_teleport` register."
   ]
  },
  {
   "cell_type": "code",
   "execution_count": 22,
   "id": "5699b050",
   "metadata": {},
   "outputs": [
    {
     "name": "stdout",
     "output_type": "stream",
     "text": [
      "State |0> with probability 0.8043588183394634\n",
      "State |1> with probability 0.19564118166053643\n"
     ]
    }
   ],
   "source": [
    "res = qpu.submit(circ.to_job(qubits=[to_teleport_a]))\n",
    "for sample in res:\n",
    "    print(f\"State {sample.state} with probability {sample.probability}\")"
   ]
  },
  {
   "cell_type": "markdown",
   "id": "663f355d",
   "metadata": {},
   "source": [
    "Let's proceed to teleport the state. We will continue to apply our gates to the cloned Program `pr2`.\n",
    "\n",
    "First Alice interacts her `to_teleport` qubit with her half of the EPR pair."
   ]
  },
  {
   "cell_type": "code",
   "execution_count": 24,
   "id": "da04ff3d",
   "metadata": {},
   "outputs": [],
   "source": [
    "pr2.apply(CNOT, to_teleport_a, epr_pair_a)\n",
    "pr2.apply(H, to_teleport_a)\n",
    "pr2.measure(to_teleport_a, to_teleport_a_c)\n",
    "pr2.measure(epr_pair_a, epr_pair_a_c)"
   ]
  },
  {
   "cell_type": "markdown",
   "id": "9e9556d4",
   "metadata": {},
   "source": [
    "Then she sends her measured qubits to Bob which, depeding on their value being 0 or 1, performes the classically controlled `X` and `Z` operations on his own half of the EPR pair."
   ]
  },
  {
   "cell_type": "code",
   "execution_count": 27,
   "id": "74f6608c",
   "metadata": {},
   "outputs": [],
   "source": [
    "pr2.cc_apply(epr_pair_a_c, X, epr_pair_b)\n",
    "pr2.cc_apply(to_teleport_a_c, Z, epr_pair_b)\n",
    "\n",
    "circ2 = pr2.to_circ()"
   ]
  },
  {
   "cell_type": "code",
   "execution_count": 10,
   "id": "9c951c6f",
   "metadata": {},
   "outputs": [
    {
     "data": {
      "image/png": "[encoded data removed]",
      "text/plain": [
       "<IPython.core.display.Image object>"
      ]
     },
     "execution_count": 10,
     "metadata": {},
     "output_type": "execute_result"
    }
   ],
   "source": [
    "%qatdisplay circ2"
   ]
  },
  {
   "cell_type": "markdown",
   "id": "9f71acde",
   "metadata": {},
   "source": [
    "Time to simulate"
   ]
  },
  {
   "cell_type": "code",
   "execution_count": 29,
   "id": "a8fe40d6",
   "metadata": {},
   "outputs": [
    {
     "name": "stdout",
     "output_type": "stream",
     "text": [
      "State |0> with probability 0.19564118166053646\n",
      "State |1> with probability 0.8043588183394637\n"
     ]
    }
   ],
   "source": [
    "res2 = qpu.submit(circ2.to_job(qubits=[epr_pair_b]))\n",
    "\n",
    "for sample in res2:\n",
    "    print(f\"State {sample.state} with probability {sample.probability}\")"
   ]
  },
  {
   "cell_type": "code",
   "execution_count": null,
   "id": "02d54cb0",
   "metadata": {},
   "outputs": [],
   "source": []
  }
 ],
 "metadata": {
  "kernelspec": {
   "display_name": "Python 3 (ipykernel)",
   "language": "python",
   "name": "python3"
  },
  "language_info": {
   "codemirror_mode": {
    "name": "ipython",
    "version": 3
   },
   "file_extension": ".py",
   "mimetype": "text/x-python",
   "name": "python",
   "nbconvert_exporter": "python",
   "pygments_lexer": "ipython3",
   "version": "3.9.10"
  }
 },
 "nbformat": 4,
 "nbformat_minor": 5
}
