{
 "cells": [
  {
   "cell_type": "markdown",
   "id": "aee2301a",
   "metadata": {},
   "source": [
    "# Quantum Fourier Transform"
   ]
  },
  {
   "cell_type": "markdown",
   "id": "f78ace19",
   "metadata": {},
   "source": [
    "In PyAQASM, the QFT is already provided as a standard routine. *Home exercise: try to implement it*."
   ]
  },
  {
   "cell_type": "code",
   "execution_count": 136,
   "id": "2f9eaf6a",
   "metadata": {},
   "outputs": [],
   "source": [
    "from qat.lang.AQASM import *\n",
    "from qat.lang.AQASM.qftarith import QFT"
   ]
  },
  {
   "cell_type": "code",
   "execution_count": 137,
   "id": "38511270",
   "metadata": {},
   "outputs": [
    {
     "data": {
      "image/png": "[encoded data removed]",
      "text/plain": [
       "<IPython.core.display.Image object>"
      ]
     },
     "execution_count": 137,
     "metadata": {},
     "output_type": "execute_result"
    },
    {
     "data": {
      "image/png": "[encoded data removed]",
      "text/plain": [
       "<IPython.core.display.Image object>"
      ]
     },
     "execution_count": 137,
     "metadata": {},
     "output_type": "execute_result"
    }
   ],
   "source": [
    "nqbits = 3\n",
    "prog = Program()\n",
    "qreg = prog.qalloc(nqbits)\n",
    "\n",
    "prog.apply(QFT(nqbits), qreg)\n",
    "qft_c = prog.to_circ()\n",
    "\n",
    "%qatdisplay qft_c\n",
    "%qatdisplay --depth=1 qft_c"
   ]
  },
  {
   "cell_type": "markdown",
   "id": "1ddf4060",
   "metadata": {},
   "source": [
    "The simulation shows how, starting from the all 0 basis state, the QFT produces the same result of a Walsh-Hadamard transform."
   ]
  },
  {
   "cell_type": "code",
   "execution_count": 139,
   "id": "e300ada1",
   "metadata": {},
   "outputs": [
    {
     "name": "stdout",
     "output_type": "stream",
     "text": [
      "State |000> with amplitude (0.3535533905932737+0j) and probability 0.12499999999999994\n",
      "State |001> with amplitude (0.3535533905932737+0j) and probability 0.12499999999999994\n",
      "State |010> with amplitude (0.3535533905932737+0j) and probability 0.12499999999999994\n",
      "State |011> with amplitude (0.3535533905932737+0j) and probability 0.12499999999999994\n",
      "State |100> with amplitude (0.3535533905932737+0j) and probability 0.12499999999999994\n",
      "State |101> with amplitude (0.3535533905932737+0j) and probability 0.12499999999999994\n",
      "State |110> with amplitude (0.3535533905932737+0j) and probability 0.12499999999999994\n",
      "State |111> with amplitude (0.3535533905932737+0j) and probability 0.12499999999999994\n"
     ]
    }
   ],
   "source": [
    "from qat.qpus import PyLinalg\n",
    "qpu = PyLinalg()\n",
    "\n",
    "job = qft_c.to_job()\n",
    "results = qpu.submit(job)\n",
    "\n",
    "for sample in results:\n",
    "    print(f\"State {sample.state} with amplitude {sample.amplitude} and probability {sample.probability}\")"
   ]
  },
  {
   "cell_type": "markdown",
   "id": "7a643343",
   "metadata": {},
   "source": [
    "# Arithmetic operations using QFT"
   ]
  },
  {
   "cell_type": "markdown",
   "id": "bf02edca",
   "metadata": {},
   "source": [
    "The QFT can be used to perform standard arithmetic operations (sum between registers, sum with a constant value, multiplication).\n",
    "\n",
    "We will see now its usage to build a circuit performing the sum of two quantum register. The addition is done ‘in place’: the second quantum register is left unaltered, while the first register will contain the result of the computation. In other words $|a\\rangle|b\\rangle \\rightarrow |a+b\\rangle|b\\rangle$\n",
    "The addition is modulo $n$, with $n$ the size of the register holding the result."
   ]
  },
  {
   "cell_type": "markdown",
   "id": "ecf5f61b",
   "metadata": {},
   "source": [
    "Let's generate two random bitstrings. We'll use them later to initialize our quantum registers."
   ]
  },
  {
   "cell_type": "code",
   "execution_count": 140,
   "id": "d86f1156",
   "metadata": {},
   "outputs": [],
   "source": [
    "import random"
   ]
  },
  {
   "cell_type": "code",
   "execution_count": 179,
   "id": "d2953bb4",
   "metadata": {},
   "outputs": [
    {
     "name": "stdout",
     "output_type": "stream",
     "text": [
      "110\n",
      "110\n"
     ]
    }
   ],
   "source": [
    "reglen = 3\n",
    "bitstra = bin(random.getrandbits(reglen))[2:].zfill(reglen)\n",
    "bitstrb = bin(random.getrandbits(reglen))[2:].zfill(reglen)\n",
    "\n",
    "print(bitstra)\n",
    "print(bitstrb)"
   ]
  },
  {
   "cell_type": "code",
   "execution_count": 180,
   "id": "4fc8f929",
   "metadata": {},
   "outputs": [
    {
     "data": {
      "image/png": "[encoded data removed]",
      "text/plain": [
       "<IPython.core.display.Image object>"
      ]
     },
     "execution_count": 180,
     "metadata": {},
     "output_type": "execute_result"
    }
   ],
   "source": [
    "pr = Program()\n",
    "\n",
    "qra = pr.qalloc(reglen)\n",
    "qrb = pr.qalloc(reglen)\n",
    "\n",
    "for bit, qbit in zip(bitstra, qra):\n",
    "    if bit == \"1\":\n",
    "        pr.apply(X, qbit)\n",
    "for bit, qbit in zip(bitstrb, qrb):\n",
    "    if bit == \"1\":\n",
    "        pr.apply(X, qbit)\n",
    "        \n",
    "circ = pr.to_circ()\n",
    "%qatdisplay circ"
   ]
  },
  {
   "cell_type": "markdown",
   "id": "7638def9",
   "metadata": {},
   "source": [
    "Now we apply the `add` function to the two quantum registers. The function takes as input\n",
    "- size of first register\n",
    "- size of second register\n",
    "- first register\n",
    "- second register"
   ]
  },
  {
   "cell_type": "code",
   "execution_count": 181,
   "id": "e3fb472a",
   "metadata": {},
   "outputs": [
    {
     "data": {
      "image/png": "[encoded data removed]",
      "text/plain": [
       "<IPython.core.display.Image object>"
      ]
     },
     "execution_count": 181,
     "metadata": {},
     "output_type": "execute_result"
    }
   ],
   "source": [
    "pr.apply(qftarith.add(len(qra), len(qrb)), qra, qrb)\n",
    "circ = pr.to_circ()\n",
    "%qatdisplay circ"
   ]
  },
  {
   "cell_type": "markdown",
   "id": "13f1e620",
   "metadata": {},
   "source": [
    "Let's simulate the circuit and check the result. Notice how, contrarily to our convention, the routine considers the leftmost digit of its inputs as the least-significant one."
   ]
  },
  {
   "cell_type": "code",
   "execution_count": 182,
   "id": "db3cb767",
   "metadata": {},
   "outputs": [
    {
     "name": "stdout",
     "output_type": "stream",
     "text": [
      "State |011> with probability 0.9999999999999989\n"
     ]
    }
   ],
   "source": [
    "job = circ.to_job(qubits=[qra])\n",
    "results = qpu.submit(job)\n",
    "\n",
    "for sample in results:\n",
    "    print(f\"State {sample.state} with probability {sample.probability}\")"
   ]
  },
  {
   "cell_type": "code",
   "execution_count": null,
   "id": "67ea958a",
   "metadata": {},
   "outputs": [],
   "source": []
  },
  {
   "cell_type": "code",
   "execution_count": null,
   "id": "117c1ef1",
   "metadata": {},
   "outputs": [],
   "source": []
  }
 ],
 "metadata": {
  "kernelspec": {
   "display_name": "Python 3 (ipykernel)",
   "language": "python",
   "name": "python3"
  },
  "language_info": {
   "codemirror_mode": {
    "name": "ipython",
    "version": 3
   },
   "file_extension": ".py",
   "mimetype": "text/x-python",
   "name": "python",
   "nbconvert_exporter": "python",
   "pygments_lexer": "ipython3",
   "version": "3.9.10"
  }
 },
 "nbformat": 4,
 "nbformat_minor": 5
}
