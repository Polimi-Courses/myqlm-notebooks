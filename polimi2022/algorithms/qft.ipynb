{
 "cells": [
  {
   "cell_type": "markdown",
   "id": "aee2301a",
   "metadata": {},
   "source": [
    "# QFT"
   ]
  },
  {
   "cell_type": "markdown",
   "id": "f78ace19",
   "metadata": {},
   "source": [
    "Directly provided as routine"
   ]
  },
  {
   "cell_type": "code",
   "execution_count": 1,
   "id": "2f9eaf6a",
   "metadata": {},
   "outputs": [],
   "source": [
    "from qat.lang.AQASM import *\n",
    "from qat.lang.AQASM.qftarith import QFT"
   ]
  },
  {
   "cell_type": "code",
   "execution_count": 27,
   "id": "38511270",
   "metadata": {},
   "outputs": [
    {
     "data": {
      "image/png": "[encoded data removed]",
      "text/plain": [
       "<IPython.core.display.Image object>"
      ]
     },
     "execution_count": 27,
     "metadata": {},
     "output_type": "execute_result"
    },
    {
     "data": {
      "image/png": "[encoded data removed]",
      "text/plain": [
       "<IPython.core.display.Image object>"
      ]
     },
     "execution_count": 27,
     "metadata": {},
     "output_type": "execute_result"
    }
   ],
   "source": [
    "nqbits = 3\n",
    "prog = Program()\n",
    "qreg = prog.qalloc(nqbits)\n",
    "\n",
    "prog.apply(QFT(nqbits), qreg)\n",
    "qft_c = prog.to_circ()\n",
    "\n",
    "%qatdisplay qft_c\n",
    "%qatdisplay --depth=1 qft_c"
   ]
  },
  {
   "cell_type": "code",
   "execution_count": 29,
   "id": "e300ada1",
   "metadata": {},
   "outputs": [
    {
     "name": "stdout",
     "output_type": "stream",
     "text": [
      "State |000> with amplitude (0.3535533905932737+0j) and probability 0.12499999999999994\n",
      "State |001> with amplitude (0.3535533905932737+0j) and probability 0.12499999999999994\n",
      "State |010> with amplitude (0.3535533905932737+0j) and probability 0.12499999999999994\n",
      "State |011> with amplitude (0.3535533905932737+0j) and probability 0.12499999999999994\n",
      "State |100> with amplitude (0.3535533905932737+0j) and probability 0.12499999999999994\n",
      "State |101> with amplitude (0.3535533905932737+0j) and probability 0.12499999999999994\n",
      "State |110> with amplitude (0.3535533905932737+0j) and probability 0.12499999999999994\n",
      "State |111> with amplitude (0.3535533905932737+0j) and probability 0.12499999999999994\n"
     ]
    }
   ],
   "source": [
    "from qat.qpus import PyLinalg\n",
    "qpu = PyLinalg()\n",
    "\n",
    "job = qft_c.to_job()\n",
    "results = qpu.submit(job)\n",
    "\n",
    "for sample in results:\n",
    "    print(f\"State {sample.state} with amplitude {sample.amplitude} and probability {sample.probability}\")"
   ]
  },
  {
   "cell_type": "markdown",
   "id": "7a643343",
   "metadata": {},
   "source": [
    "# Arithmetic operations using QFT"
   ]
  },
  {
   "cell_type": "markdown",
   "id": "bf02edca",
   "metadata": {},
   "source": [
    "Builds a circuit performing an addition using two qbits registers. The addition is done ‘in place’. Only the content of the first register is changed:\n",
    "All additions, unless specified, are modulo\n",
    "where n is the size of the register holding the result."
   ]
  },
  {
   "cell_type": "code",
   "execution_count": 111,
   "id": "d86f1156",
   "metadata": {},
   "outputs": [],
   "source": [
    "import random"
   ]
  },
  {
   "cell_type": "code",
   "execution_count": 116,
   "id": "d2953bb4",
   "metadata": {},
   "outputs": [
    {
     "name": "stdout",
     "output_type": "stream",
     "text": [
      "01\n",
      "10\n"
     ]
    }
   ],
   "source": [
    "reglen = 2\n",
    "bitstra = bin(random.getrandbits(reglen))[2:].zfill(reglen)\n",
    "bitstrb = bin(random.getrandbits(reglen))[2:].zfill(reglen)\n",
    "\n",
    "print(bitstra)\n",
    "print(bitstrb)"
   ]
  },
  {
   "cell_type": "code",
   "execution_count": 117,
   "id": "4fc8f929",
   "metadata": {},
   "outputs": [
    {
     "data": {
      "image/png": "[encoded data removed]",
      "text/plain": [
       "<IPython.core.display.Image object>"
      ]
     },
     "execution_count": 117,
     "metadata": {},
     "output_type": "execute_result"
    }
   ],
   "source": [
    "pr = Program()\n",
    "\n",
    "qra = pr.qalloc(reglen)\n",
    "qrb = pr.qalloc(reglen)\n",
    "\n",
    "for bit, qbit in zip(bitstra, qra):\n",
    "    if bit == \"1\":\n",
    "        pr.apply(X, qbit)\n",
    "for bit, qbit in zip(bitstrb, qrb):\n",
    "    if bit == \"1\":\n",
    "        pr.apply(X, qbit)\n",
    "        \n",
    "circ = pr.to_circ()\n",
    "%qatdisplay circ"
   ]
  },
  {
   "cell_type": "code",
   "execution_count": 118,
   "id": "e3fb472a",
   "metadata": {},
   "outputs": [
    {
     "data": {
      "image/png": "[encoded data removed]",
      "text/plain": [
       "<IPython.core.display.Image object>"
      ]
     },
     "execution_count": 118,
     "metadata": {},
     "output_type": "execute_result"
    }
   ],
   "source": [
    "pr.apply(qftarith.add(len(qra), len(qrb)), qra, qrb)\n",
    "circ = pr.to_circ()\n",
    "%qatdisplay circ"
   ]
  },
  {
   "cell_type": "code",
   "execution_count": 119,
   "id": "db3cb767",
   "metadata": {},
   "outputs": [
    {
     "name": "stdout",
     "output_type": "stream",
     "text": [
      "State |11> with probability 0.9999999999999993\n"
     ]
    }
   ],
   "source": [
    "job = circ.to_job(qubits=[qra])\n",
    "results = qpu.submit(job)\n",
    "\n",
    "for sample in results:\n",
    "    print(f\"State {sample.state} with probability {sample.probability}\")"
   ]
  },
  {
   "cell_type": "code",
   "execution_count": null,
   "id": "67ea958a",
   "metadata": {},
   "outputs": [],
   "source": []
  }
 ],
 "metadata": {
  "kernelspec": {
   "display_name": "Python 3 (ipykernel)",
   "language": "python",
   "name": "python3"
  },
  "language_info": {
   "codemirror_mode": {
    "name": "ipython",
    "version": 3
   },
   "file_extension": ".py",
   "mimetype": "text/x-python",
   "name": "python",
   "nbconvert_exporter": "python",
   "pygments_lexer": "ipython3",
   "version": "3.9.10"
  }
 },
 "nbformat": 4,
 "nbformat_minor": 5
}
