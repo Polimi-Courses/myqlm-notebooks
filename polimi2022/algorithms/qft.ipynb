{
 "cells": [
  {
   "cell_type": "markdown",
   "id": "da50ce62",
   "metadata": {},
   "source": [
    "# QFT"
   ]
  },
  {
   "cell_type": "markdown",
   "id": "8a01a07b",
   "metadata": {},
   "source": [
    "Directly provided as routine"
   ]
  },
  {
   "cell_type": "code",
   "execution_count": 1,
   "id": "9040c51d",
   "metadata": {},
   "outputs": [],
   "source": [
    "from qat.lang.AQASM import *\n",
    "from qat.lang.AQASM.qftarith import QFT"
   ]
  },
  {
   "cell_type": "code",
   "execution_count": 8,
   "id": "03c10b5d",
   "metadata": {},
   "outputs": [],
   "source": [
    "from random import random"
   ]
  },
  {
   "cell_type": "code",
   "execution_count": 11,
   "id": "d4ee8409",
   "metadata": {},
   "outputs": [
    {
     "name": "stdout",
     "output_type": "stream",
     "text": [
      "['1', '1', '0', '0', '1']\n"
     ]
    },
    {
     "data": {
      "image/png": "[encoded data removed]",
      "text/plain": [
       "<IPython.core.display.Image object>"
      ]
     },
     "execution_count": 11,
     "metadata": {},
     "output_type": "execute_result"
    },
    {
     "data": {
      "image/png": "[encoded data removed]",
      "text/plain": [
       "<IPython.core.display.Image object>"
      ]
     },
     "execution_count": 11,
     "metadata": {},
     "output_type": "execute_result"
    }
   ],
   "source": [
    "nqbits = 5\n",
    "prog = Program()\n",
    "qreg = prog.qalloc(nqbits)\n",
    "\n",
    "st = []\n",
    "\n",
    "for qb in qreg:\n",
    "    if random() >= 0.5:\n",
    "        prog.apply(X, qb)\n",
    "        st.append(\"1\")\n",
    "    else:\n",
    "        st.append(\"0\")\n",
    "print(f\"{st}\")\n",
    "\n",
    "prog.apply(QFT(nqbits), qreg)\n",
    "qft_c = prog.to_circ()\n",
    "\n",
    "%qatdisplay qft_c\n",
    "%qatdisplay --depth=1 qft_c"
   ]
  },
  {
   "cell_type": "code",
   "execution_count": 7,
   "id": "09dc61e7",
   "metadata": {},
   "outputs": [
    {
     "name": "stdout",
     "output_type": "stream",
     "text": [
      "State |00000> with amplitude (0.1767766952966368+0j)\n",
      "State |00001> with amplitude (0.1767766952966368+0j)\n",
      "State |00010> with amplitude (0.1767766952966368+0j)\n",
      "State |00011> with amplitude (0.1767766952966368+0j)\n",
      "State |00100> with amplitude (0.1767766952966368+0j)\n",
      "State |00101> with amplitude (0.1767766952966368+0j)\n",
      "State |00110> with amplitude (0.1767766952966368+0j)\n",
      "State |00111> with amplitude (0.1767766952966368+0j)\n",
      "State |01000> with amplitude (0.1767766952966368+0j)\n",
      "State |01001> with amplitude (0.1767766952966368+0j)\n",
      "State |01010> with amplitude (0.1767766952966368+0j)\n",
      "State |01011> with amplitude (0.1767766952966368+0j)\n",
      "State |01100> with amplitude (0.1767766952966368+0j)\n",
      "State |01101> with amplitude (0.1767766952966368+0j)\n",
      "State |01110> with amplitude (0.1767766952966368+0j)\n",
      "State |01111> with amplitude (0.1767766952966368+0j)\n",
      "State |10000> with amplitude (0.1767766952966368+0j)\n",
      "State |10001> with amplitude (0.1767766952966368+0j)\n",
      "State |10010> with amplitude (0.1767766952966368+0j)\n",
      "State |10011> with amplitude (0.1767766952966368+0j)\n",
      "State |10100> with amplitude (0.1767766952966368+0j)\n",
      "State |10101> with amplitude (0.1767766952966368+0j)\n",
      "State |10110> with amplitude (0.1767766952966368+0j)\n",
      "State |10111> with amplitude (0.1767766952966368+0j)\n",
      "State |11000> with amplitude (0.1767766952966368+0j)\n",
      "State |11001> with amplitude (0.1767766952966368+0j)\n",
      "State |11010> with amplitude (0.1767766952966368+0j)\n",
      "State |11011> with amplitude (0.1767766952966368+0j)\n",
      "State |11100> with amplitude (0.1767766952966368+0j)\n",
      "State |11101> with amplitude (0.1767766952966368+0j)\n",
      "State |11110> with amplitude (0.1767766952966368+0j)\n",
      "State |11111> with amplitude (0.1767766952966368+0j)\n"
     ]
    }
   ],
   "source": [
    "from qat.qpus import PyLinalg\n",
    "qpu = PyLinalg()\n",
    "\n",
    "job = qft_c.to_job()\n",
    "results = qpu.submit(job)\n",
    "\n",
    "for sample in results:\n",
    "    print(f\"State {sample.state} with amplitude {sample.amplitude}\")"
   ]
  },
  {
   "cell_type": "code",
   "execution_count": null,
   "id": "f503b848",
   "metadata": {},
   "outputs": [],
   "source": []
  }
 ],
 "metadata": {
  "kernelspec": {
   "display_name": "Python 3 (ipykernel)",
   "language": "python",
   "name": "python3"
  },
  "language_info": {
   "codemirror_mode": {
    "name": "ipython",
    "version": 3
   },
   "file_extension": ".py",
   "mimetype": "text/x-python",
   "name": "python",
   "nbconvert_exporter": "python",
   "pygments_lexer": "ipython3",
   "version": "3.9.10"
  }
 },
 "nbformat": 4,
 "nbformat_minor": 5
}
