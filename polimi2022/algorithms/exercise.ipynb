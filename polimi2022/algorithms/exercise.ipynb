{
 "cells": [
  {
   "cell_type": "markdown",
   "id": "c551e622",
   "metadata": {},
   "source": [
    "# Exercise 1"
   ]
  },
  {
   "cell_type": "code",
   "execution_count": 2,
   "id": "b1c153ff",
   "metadata": {},
   "outputs": [],
   "source": [
    "from qat.lang.AQASM import *"
   ]
  },
  {
   "cell_type": "markdown",
   "id": "25cfb931",
   "metadata": {},
   "source": [
    "Based on the slide, code a quantum circuit for the Deutsch-Jozsa algorithm. The Oracle is not provided yet, so it should be passed as an `abstract_gate` object."
   ]
  },
  {
   "cell_type": "code",
   "execution_count": null,
   "id": "4adc936b",
   "metadata": {},
   "outputs": [],
   "source": [
    "pr = Program()"
   ]
  }
 ],
 "metadata": {
  "kernelspec": {
   "display_name": "Python 3 (ipykernel)",
   "language": "python",
   "name": "python3"
  },
  "language_info": {
   "codemirror_mode": {
    "name": "ipython",
    "version": 3
   },
   "file_extension": ".py",
   "mimetype": "text/x-python",
   "name": "python",
   "nbconvert_exporter": "python",
   "pygments_lexer": "ipython3",
   "version": "3.9.10"
  }
 },
 "nbformat": 4,
 "nbformat_minor": 5
}
