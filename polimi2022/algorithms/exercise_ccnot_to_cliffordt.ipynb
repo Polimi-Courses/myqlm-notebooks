{
 "cells": [
  {
   "cell_type": "markdown",
   "id": "5adc3e7b",
   "metadata": {},
   "source": [
    "# Exercise: Toffoli decomposition"
   ]
  },
  {
   "cell_type": "markdown",
   "id": "73831722",
   "metadata": {},
   "source": [
    "Using the `build_gate` decorator previously seen, implement the exact decomposition of the Toffoli shown on the right side of the figure."
   ]
  },
  {
   "cell_type": "code",
   "execution_count": 9,
   "id": "fad679bb",
   "metadata": {
    "scrolled": true
   },
   "outputs": [
    {
     "data": {
      "text/html": [
       "\n",
       "        <iframe\n",
       "            width=\"600\"\n",
       "            height=\"300\"\n",
       "            src=\"pdfs/tikz_ccnot_decomposition.pdf\"\n",
       "            frameborder=\"0\"\n",
       "            allowfullscreen\n",
       "            \n",
       "        ></iframe>\n",
       "        "
      ],
      "text/plain": [
       "<IPython.lib.display.IFrame at 0x7fd99a288a90>"
      ]
     },
     "execution_count": 9,
     "metadata": {},
     "output_type": "execute_result"
    }
   ],
   "source": [
    "from IPython.display import IFrame\n",
    "IFrame(\"pdfs/tikz_ccnot_decomposition.pdf\", width=600, height=300)"
   ]
  },
  {
   "cell_type": "code",
   "execution_count": null,
   "id": "684b7074",
   "metadata": {},
   "outputs": [],
   "source": []
  }
 ],
 "metadata": {
  "kernelspec": {
   "display_name": "Python 3 (ipykernel)",
   "language": "python",
   "name": "python3"
  },
  "language_info": {
   "codemirror_mode": {
    "name": "ipython",
    "version": 3
   },
   "file_extension": ".py",
   "mimetype": "text/x-python",
   "name": "python",
   "nbconvert_exporter": "python",
   "pygments_lexer": "ipython3",
   "version": "3.9.10"
  }
 },
 "nbformat": 4,
 "nbformat_minor": 5
}
