{
 "cells": [
  {
   "cell_type": "markdown",
   "metadata": {},
   "source": [
    "# Quantum Learning Machine: jupyter notebooks tutorial\n",
    "<span style=\"color:green\">myQLM-1.5.1</span>\n",
    "\n",
    "The Quantum Learning Machine provides a software environment to program, compile and execute quantum programs, either on one of the provided simulators or on an actual chip whose interface has been implemented.\n",
    "\n",
    "It comes with a python software stack named \"*Quantum Application Toolset*\" (QAT), available under the general namespace ``qat``.\n",
    "\n",
    "The original set of notebooks, directly taken from myQLM repository, can be accessed [here](overview.ipynb) "
   ]
  },
  {
   "cell_type": "markdown",
   "metadata": {},
   "source": [
    "# Hands on notebooks"
   ]
  },
  {
   "cell_type": "markdown",
   "metadata": {},
   "source": [
    "A list of gates available both on AQASM and pyAQASM can be found [here](tutorials/lang/available_gates.ipynb)."
   ]
  },
  {
   "cell_type": "markdown",
   "metadata": {},
   "source": [
    "## First steps\n",
    "\n",
    "To start gently, consider having a look to the following notebooks:\n",
    "  * [Quantum \"hello world\" - EPR pair circuit](polimi2022/basic/epr_pair.ipynb)\n",
    "  * [Asking a simulator results on a subset of the qubits](polimi2022/basic/partial_measures.ipynb)\n",
    "  \n"
   ]
  },
  {
   "cell_type": "markdown",
   "metadata": {},
   "source": [
    "## Advanced:\n",
    "### Classical operations\n",
    "- [Overview](polimi2022/advanced/classic.ipynb)\n",
    "- [Exercise 1 - Teleportation algorithm](polimi2022/algorithms/exercise_teleportation.ipynb)\n",
    "- [Teleportation](polimi2022/algorithms/teleportation.ipynb)\n",
    "\n",
    "### Abstract gates\n",
    "- [Overview](polimi2022/advanced/abstract_gates.ipynb)\n",
    "- [Exercise 2 - Deutsch-Jozsa without oracles](polimi2022/algorithms/exercise_detusch_jozsa.ipynb)\n",
    "\n",
    "### QRoutine\n",
    "- [Overview](polimi2022/advanced/qroutine.ipynb)\n",
    "- [Exercise 3 - CCNOT using Clifford+T gates](polimi2022/algorithms/exercise_ccnot_to_cliffordt.ipynb)\n",
    "- [Deutsch-Jozsa with oracles and linking](polimi2022/algorithms/deutsch_jozsa.ipynb)\n",
    "- [Exercise 4 - Bernstein-Vazirani Oracle](polimi2022/algorithms/exercise_bernstein_vazirani.ipynb)\n"
   ]
  },
  {
   "cell_type": "markdown",
   "metadata": {},
   "source": [
    "## Oracle-based Algorithms\n",
    "\n",
    "- [Deutsch-Jozsa](polimi2022/algorithms/deutsch_jozsa.ipynb)\n",
    "- [Bernstein-Vazirani](polimi2022/algorithms/bernstein_vazirani.ipynb)\n",
    "- [Grover](polimi2022/algorithms/grover.ipynb)\n",
    "\n",
    "\n"
   ]
  },
  {
   "cell_type": "markdown",
   "metadata": {},
   "source": [
    "## A QFT use case\n",
    "- [QFT](polimi2022/algorithms/qft.ipynb)"
   ]
  },
  {
   "cell_type": "code",
   "execution_count": null,
   "metadata": {},
   "outputs": [],
   "source": []
  }
 ],
 "metadata": {
  "authors": [
   "Simon Martiel"
  ],
  "kernelspec": {
   "display_name": "Python 3 (ipykernel)",
   "language": "python",
   "name": "python3"
  },
  "language_info": {
   "codemirror_mode": {
    "name": "ipython",
    "version": 3
   },
   "file_extension": ".py",
   "mimetype": "text/x-python",
   "name": "python",
   "nbconvert_exporter": "python",
   "pygments_lexer": "ipython3",
   "version": "3.9.10"
  },
  "nbsphinx-toctree": {
   "maxdepth": 3,
   "numbered": true
  }
 },
 "nbformat": 4,
 "nbformat_minor": 2
}
