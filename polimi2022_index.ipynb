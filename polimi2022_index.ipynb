{
 "cells": [
  {
   "cell_type": "markdown",
   "metadata": {},
   "source": [
    "# Quantum Learning Machine: jupyter notebooks tutorial\n",
    "<span style=\"color:green\">myQLM-1.5.1</span>\n",
    "\n",
    "The Quantum Learning Machine provides a software environment to program, compile and execute quantum programs, either on one of the provided simulators or on an actual chip whose interface has been implemented.\n",
    "\n",
    "It comes with a python software stack named \"*Quantum Application Toolset*\" (QAT), available under the general namespace ``qat``.\n",
    "\n",
    "The original set of notebooks, directly taken from myQLM repository, can be accessed [here](overview.ipynb) "
   ]
  },
  {
   "cell_type": "markdown",
   "metadata": {},
   "source": [
    "# Prerequisites\n",
    "From google-colab, you have to install `myqlm`. With `update-alternatives`, you have to select a python version supported by `myqlm` that, at the time of writing, is either `3.6` or `3.10` (colab run on `3.7`)"
   ]
  },
  {
   "cell_type": "code",
   "execution_count": null,
   "metadata": {},
   "outputs": [
    {
     "name": "stdout",
     "output_type": "stream",
     "text": [
      "[sudo] password for simone: "
     ]
    }
   ],
   "source": [
    "!sudo update-alternatives --config python3"
   ]
  },
  {
   "cell_type": "code",
   "execution_count": null,
   "metadata": {},
   "outputs": [],
   "source": [
    "!python3 -m pip install myqlm"
   ]
  },
  {
   "cell_type": "markdown",
   "metadata": {},
   "source": [
    "# Dive in"
   ]
  },
  {
   "cell_type": "markdown",
   "metadata": {},
   "source": [
    "## First steps with the QLM\n",
    "\n",
    "To start gently, consider having a look to the following notebooks:\n",
    "  * [EPR pair circuit creation and simulation](polimi2022/basic/epr_pair.ipynb) Quantum \"hello world\".\n",
    "  * [Asking a simulator results on a subset of the qubits](polimi2022/basic/partial_measures.ipynb)"
   ]
  },
  {
   "cell_type": "markdown",
   "metadata": {},
   "source": [
    "## Hands on:\n",
    "- ### [Classical operations](tutorials/basic/overview_basic.ipynb)\n",
    "- ### [Abstract and parametrized gates](todo)\n",
    "- ### [Quantum subroutines](todo)\n",
    "- ### [Linking (maybe)] (todo)"
   ]
  },
  {
   "cell_type": "markdown",
   "metadata": {},
   "source": [
    "## Algorithms:\n",
    "- ### [Deutsch-Jozsa](tutorials/basic/overview_basic.ipynb)\n",
    "- ### [Bernstein-Vazirani](todo)\n",
    "- ### [Grover](todo)\n",
    "- ### [QFT (maybe)] (todo)"
   ]
  },
  {
   "cell_type": "code",
   "execution_count": null,
   "metadata": {},
   "outputs": [],
   "source": []
  }
 ],
 "metadata": {
  "authors": [
   "Simon Martiel"
  ],
  "kernelspec": {
   "display_name": "Python 3 (ipykernel)",
   "language": "python",
   "name": "python3"
  },
  "language_info": {
   "codemirror_mode": {
    "name": "ipython",
    "version": 3
   },
   "file_extension": ".py",
   "mimetype": "text/x-python",
   "name": "python",
   "nbconvert_exporter": "python",
   "pygments_lexer": "ipython3",
   "version": "3.9.10"
  },
  "nbsphinx-toctree": {
   "maxdepth": 3,
   "numbered": true
  }
 },
 "nbformat": 4,
 "nbformat_minor": 2
}
