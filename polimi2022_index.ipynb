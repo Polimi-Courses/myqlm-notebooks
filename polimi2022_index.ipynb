{
 "cells": [
  {
   "cell_type": "markdown",
   "metadata": {},
   "source": [
    "# Quantum Learning Machine: jupyter notebooks tutorial\n",
    "<span style=\"color:green\">myQLM-1.5.1</span>\n",
    "\n",
    "The Quantum Learning Machine provides a software environment to program, compile and execute quantum programs, either on one of the provided simulators or on an actual chip whose interface has been implemented.\n",
    "\n",
    "It comes with a python software stack named \"*Quantum Application Toolset*\" (QAT), available under the general namespace ``qat``.\n",
    "\n",
    "The original set of notebooks, directly taken from myQLM repository, can be accessed [here](overview.ipynb) "
   ]
  },
  {
   "cell_type": "markdown",
   "metadata": {},
   "source": [
    "# Hands on notebooks"
   ]
  },
  {
   "cell_type": "markdown",
   "metadata": {},
   "source": [
    "## First steps\n",
    "\n",
    "\n",
    "\n",
    "To start gently, consider having a look to the following notebooks:\n",
    "  * [EPR pair circuit creation and simulation](polimi2022/basic/epr_pair.ipynb) Quantum \"hello world\".\n",
    "  * [Asking a simulator results on a subset of the qubits](polimi2022/basic/partial_measures.ipynb)\n",
    "  \n"
   ]
  },
  {
   "cell_type": "markdown",
   "metadata": {},
   "source": [
    "A list of available gates is [here](tutorials/lang/available_gates.ipynb)"
   ]
  },
  {
   "cell_type": "markdown",
   "metadata": {},
   "source": [
    "## Advanced:\n",
    "- ### [First](tutorials/lang/py_aqasm.ipynb)\n",
    "- ### [Linking maybe](todo)"
   ]
  },
  {
   "cell_type": "markdown",
   "metadata": {},
   "source": [
    "## Algorithms:\n",
    "- ### [Deutsch-Jozsa](tutorials/basic/overview_basic.ipynb)\n",
    "- ### [Bernstein-Vazirani](todo)\n",
    "- ### [Grover](todo)\n",
    "- ### [QFT (maybe)](todo)"
   ]
  },
  {
   "cell_type": "code",
   "execution_count": null,
   "metadata": {},
   "outputs": [],
   "source": []
  }
 ],
 "metadata": {
  "authors": [
   "Simon Martiel"
  ],
  "kernelspec": {
   "display_name": "Python 3 (ipykernel)",
   "language": "python",
   "name": "python3"
  },
  "language_info": {
   "codemirror_mode": {
    "name": "ipython",
    "version": 3
   },
   "file_extension": ".py",
   "mimetype": "text/x-python",
   "name": "python",
   "nbconvert_exporter": "python",
   "pygments_lexer": "ipython3",
   "version": "3.9.10"
  },
  "nbsphinx-toctree": {
   "maxdepth": 3,
   "numbered": true
  }
 },
 "nbformat": 4,
 "nbformat_minor": 2
}
